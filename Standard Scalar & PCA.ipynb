{
 "cells": [
  {
   "cell_type": "code",
   "execution_count": 420,
   "id": "2a03434b",
   "metadata": {},
   "outputs": [],
   "source": [
    "import numpy as np \n",
    "import pandas as pd\n",
    "from sklearn.datasets import load_wine"
   ]
  },
  {
   "cell_type": "code",
   "execution_count": 421,
   "id": "be7cefed",
   "metadata": {},
   "outputs": [
    {
     "data": {
      "text/plain": [
       "sklearn.utils._bunch.Bunch"
      ]
     },
     "execution_count": 421,
     "metadata": {},
     "output_type": "execute_result"
    }
   ],
   "source": [
    "type(load_wine())"
   ]
  },
  {
   "cell_type": "code",
   "execution_count": 422,
   "id": "eb560a6f",
   "metadata": {},
   "outputs": [],
   "source": [
    "df = load_wine()\n",
    "x = df.data\n",
    "# df = pd.DataFrame(data=df['data'],columns=df.feature_names)\n"
   ]
  },
  {
   "cell_type": "code",
   "execution_count": 423,
   "id": "9f5ca447",
   "metadata": {
    "scrolled": true
   },
   "outputs": [],
   "source": [
    "# df.isnull()"
   ]
  },
  {
   "cell_type": "code",
   "execution_count": 424,
   "id": "e0dc7084",
   "metadata": {},
   "outputs": [],
   "source": [
    "# df.isnull().sum()"
   ]
  },
  {
   "cell_type": "code",
   "execution_count": 425,
   "id": "ebdf41e4",
   "metadata": {},
   "outputs": [
    {
     "data": {
      "text/plain": [
       "array([0, 0, 0, 0, 0, 0, 0, 0, 0, 0, 0, 0, 0, 0, 0, 0, 0, 0, 0, 0, 0, 0,\n",
       "       0, 0, 0, 0, 0, 0, 0, 0, 0, 0, 0, 0, 0, 0, 0, 0, 0, 0, 0, 0, 0, 0,\n",
       "       0, 0, 0, 0, 0, 0, 0, 0, 0, 0, 0, 0, 0, 0, 0, 1, 1, 1, 1, 1, 1, 1,\n",
       "       1, 1, 1, 1, 1, 1, 1, 1, 1, 1, 1, 1, 1, 1, 1, 1, 1, 1, 1, 1, 1, 1,\n",
       "       1, 1, 1, 1, 1, 1, 1, 1, 1, 1, 1, 1, 1, 1, 1, 1, 1, 1, 1, 1, 1, 1,\n",
       "       1, 1, 1, 1, 1, 1, 1, 1, 1, 1, 1, 1, 1, 1, 1, 1, 1, 1, 1, 1, 2, 2,\n",
       "       2, 2, 2, 2, 2, 2, 2, 2, 2, 2, 2, 2, 2, 2, 2, 2, 2, 2, 2, 2, 2, 2,\n",
       "       2, 2, 2, 2, 2, 2, 2, 2, 2, 2, 2, 2, 2, 2, 2, 2, 2, 2, 2, 2, 2, 2,\n",
       "       2, 2])"
      ]
     },
     "execution_count": 425,
     "metadata": {},
     "output_type": "execute_result"
    }
   ],
   "source": [
    "\n",
    "y = df.target\n",
    "y"
   ]
  },
  {
   "cell_type": "code",
   "execution_count": 426,
   "id": "ce2bd218",
   "metadata": {},
   "outputs": [
    {
     "name": "stdout",
     "output_type": "stream",
     "text": [
      "StandardScaler()\n"
     ]
    }
   ],
   "source": [
    "from sklearn.preprocessing import StandardScaler\n",
    "from sklearn.model_selection import train_test_split\n",
    "train_x,test_x,train_y,test_y = train_test_split(x,y,test_size=0.2) \n",
    "sc = StandardScaler()\n",
    "train_x_sc = sc.fit_transform(train_x)\n",
    "test_x_sc = sc.fit_transform(test_x)\n",
    "sc_data = sc.fit(train_x_sc,train_y)\n",
    "# sc_data= model.transform(df)\n",
    "print(sc_data)\n"
   ]
  },
  {
   "cell_type": "code",
   "execution_count": 427,
   "id": "90aca11d",
   "metadata": {},
   "outputs": [],
   "source": [
    "# import matplotlib.pyplot as plt"
   ]
  },
  {
   "cell_type": "code",
   "execution_count": 428,
   "id": "6b9f9e7d",
   "metadata": {},
   "outputs": [],
   "source": [
    "# plt.plot(train_x_sc,train_y)\n",
    "# plt.show()"
   ]
  },
  {
   "cell_type": "code",
   "execution_count": 429,
   "id": "999efac4",
   "metadata": {},
   "outputs": [],
   "source": [
    "from sklearn.decomposition import PCA\n",
    "pca =PCA(n_components=10)\n",
    "train_x_sc_pca = pca.fit_transform(train_x_sc)\n",
    "test_x_sc_pca = pca.fit_transform(test_x_sc)"
   ]
  },
  {
   "cell_type": "code",
   "execution_count": 430,
   "id": "6b29a758",
   "metadata": {},
   "outputs": [
    {
     "data": {
      "text/plain": [
       "(142, 10)"
      ]
     },
     "execution_count": 430,
     "metadata": {},
     "output_type": "execute_result"
    }
   ],
   "source": [
    "train_x_sc_pca.shape"
   ]
  },
  {
   "cell_type": "code",
   "execution_count": 431,
   "id": "043e1cf7",
   "metadata": {},
   "outputs": [
    {
     "data": {
      "text/plain": [
       "(36, 10)"
      ]
     },
     "execution_count": 431,
     "metadata": {},
     "output_type": "execute_result"
    }
   ],
   "source": [
    "test_x_sc_pca.shape"
   ]
  },
  {
   "cell_type": "code",
   "execution_count": 432,
   "id": "4a622a01",
   "metadata": {},
   "outputs": [],
   "source": [
    "from sklearn.linear_model import LogisticRegression\n",
    "lr = LogisticRegression()\n",
    "lr.fit(train_x_sc_pca,train_y)\n",
    "train_x_sc_pca_lr = lr.predict(train_x_sc_pca)\n",
    "test_x_sc_pca_lr = lr.predict(test_x_sc_pca)"
   ]
  },
  {
   "cell_type": "code",
   "execution_count": 433,
   "id": "c58d6afe",
   "metadata": {},
   "outputs": [],
   "source": [
    "from sklearn.metrics import accuracy_score"
   ]
  },
  {
   "cell_type": "code",
   "execution_count": 434,
   "id": "2fa06461",
   "metadata": {},
   "outputs": [
    {
     "name": "stdout",
     "output_type": "stream",
     "text": [
      "train accuracy : 1.0\n"
     ]
    }
   ],
   "source": [
    "asc  = accuracy_score(train_x_sc_pca_lr,train_y)\n",
    "print(\"train accuracy :\",asc)\n",
    "\n"
   ]
  },
  {
   "cell_type": "code",
   "execution_count": 435,
   "id": "d37289cf",
   "metadata": {},
   "outputs": [
    {
     "name": "stdout",
     "output_type": "stream",
     "text": [
      "accuracy of test data is:  0.3333333333333333\n"
     ]
    }
   ],
   "source": [
    "print(\"accuracy of test data is: \", accuracy_score(test_x_sc_pca_lr,test_y))"
   ]
  },
  {
   "cell_type": "code",
   "execution_count": null,
   "id": "d15108fe",
   "metadata": {},
   "outputs": [],
   "source": []
  },
  {
   "cell_type": "code",
   "execution_count": null,
   "id": "8c3b35b1",
   "metadata": {},
   "outputs": [],
   "source": []
  },
  {
   "cell_type": "code",
   "execution_count": null,
   "id": "3466e31f",
   "metadata": {},
   "outputs": [],
   "source": []
  }
 ],
 "metadata": {
  "kernelspec": {
   "display_name": "Python 3 (ipykernel)",
   "language": "python",
   "name": "python3"
  },
  "language_info": {
   "codemirror_mode": {
    "name": "ipython",
    "version": 3
   },
   "file_extension": ".py",
   "mimetype": "text/x-python",
   "name": "python",
   "nbconvert_exporter": "python",
   "pygments_lexer": "ipython3",
   "version": "3.10.5"
  }
 },
 "nbformat": 4,
 "nbformat_minor": 5
}
