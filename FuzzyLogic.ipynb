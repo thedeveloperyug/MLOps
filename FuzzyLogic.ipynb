{
 "cells": [
  {
   "cell_type": "code",
   "execution_count": 5,
   "id": "1b0b8d41",
   "metadata": {},
   "outputs": [
    {
     "name": "stdout",
     "output_type": "stream",
     "text": [
      "The First Fuzzy Set is : {'a': 0.2, 'b': 0.3, 'c': 0.6, 'd': 0.6}\n",
      "The Second Fuzzy Set is : {'a': 0.9, 'b': 0.9, 'c': 0.4, 'd': 0.5}\n",
      "Fuzzy Set Union is : {'a': 0.9, 'b': 0.9, 'c': 0.6, 'd': 0.6}\n"
     ]
    }
   ],
   "source": [
    "# Example to Demonstrate the\n",
    "# Union of Two Fuzzy Sets\n",
    "A = dict()\n",
    "B = dict()\n",
    "Y = dict()\n",
    "\n",
    "A = {\"a\": 0.2, \"b\": 0.3, \"c\": 0.6, \"d\": 0.6}\n",
    "B = {\"a\": 0.9, \"b\": 0.9, \"c\": 0.4, \"d\": 0.5}\n",
    "\n",
    "print('The First Fuzzy Set is :', A)\n",
    "print('The Second Fuzzy Set is :', B)\n",
    "\n",
    "\n",
    "for A_key, B_key in zip(A, B):\n",
    "\tA_value = A[A_key]\n",
    "\tB_value = B[B_key]\n",
    "\n",
    "\tif A_value > B_value:\n",
    "\t\tY[A_key] = A_value\n",
    "\telse:\n",
    "\t\tY[B_key] = B_value\n",
    "\t\t\n",
    "print('Fuzzy Set Union is :', Y)\n"
   ]
  },
  {
   "cell_type": "code",
   "execution_count": 6,
   "id": "bfe60636",
   "metadata": {},
   "outputs": [
    {
     "name": "stdout",
     "output_type": "stream",
     "text": [
      "The First Fuzzy Set is : {'a': 0.2, 'b': 0.3, 'c': 0.6, 'd': 0.6}\n",
      "The Second Fuzzy Set is : {'a': 0.9, 'b': 0.9, 'c': 0.4, 'd': 0.5}\n",
      "Fuzzy Set Intersection is : {'a': 0.2, 'b': 0.3, 'c': 0.4, 'd': 0.5}\n"
     ]
    }
   ],
   "source": [
    "\n",
    "# Example to Demonstrate\n",
    "# Intersection of Two Fuzzy Sets\n",
    "A = dict()\n",
    "B = dict()\n",
    "Y = dict()\n",
    " \n",
    "A = {\"a\": 0.2, \"b\": 0.3, \"c\": 0.6, \"d\": 0.6}\n",
    "B = {\"a\": 0.9, \"b\": 0.9, \"c\": 0.4, \"d\": 0.5}\n",
    " \n",
    "print('The First Fuzzy Set is :', A)\n",
    "print('The Second Fuzzy Set is :', B)\n",
    " \n",
    " \n",
    "for A_key, B_key in zip(A, B):\n",
    "    A_value = A[A_key]\n",
    "    B_value = B[B_key]\n",
    " \n",
    "    if A_value < B_value:\n",
    "        Y[A_key] = A_value\n",
    "    else:\n",
    "        Y[B_key] = B_value\n",
    "print('Fuzzy Set Intersection is :', Y)"
   ]
  },
  {
   "cell_type": "code",
   "execution_count": 7,
   "id": "50ff4ba4",
   "metadata": {},
   "outputs": [
    {
     "name": "stdout",
     "output_type": "stream",
     "text": [
      "The Fuzzy Set is : {'a': 0.2, 'b': 0.3, 'c': 0.6, 'd': 0.6}\n",
      "Fuzzy Set Complement is : {'a': 0.8, 'b': 0.7, 'c': 0.4, 'd': 0.4}\n"
     ]
    }
   ],
   "source": [
    "\n",
    "# Example to Demonstrate the\n",
    "# Difference Between Two Fuzzy Sets\n",
    "A = dict()\n",
    "Y = dict()\n",
    " \n",
    "A = {\"a\": 0.2, \"b\": 0.3, \"c\": 0.6, \"d\": 0.6}\n",
    " \n",
    "print('The Fuzzy Set is :', A)\n",
    " \n",
    " \n",
    "for A_key in A:\n",
    "   Y[A_key]= 1-A[A_key]\n",
    "         \n",
    "print('Fuzzy Set Complement is :', Y)"
   ]
  },
  {
   "cell_type": "code",
   "execution_count": 9,
   "id": "b4614b4c",
   "metadata": {},
   "outputs": [
    {
     "name": "stdout",
     "output_type": "stream",
     "text": [
      "The First Fuzzy Set is : {'a': 0.2, 'b': 0.3, 'c': 0.6, 'd': 0.6}\n",
      "The Second Fuzzy Set is : {'a': 0.9, 'b': 0.9, 'c': 0.4, 'd': 0.5}\n",
      "Fuzzy Set Difference is : {'a': 0.09999999999999998, 'b': 0.09999999999999998, 'c': 0.6, 'd': 0.5}\n"
     ]
    }
   ],
   "source": [
    "\n",
    "# Example to Demonstrate the\n",
    "# Difference Between Two Fuzzy Sets\n",
    "A = dict()\n",
    "B = dict()\n",
    "Y = dict()\n",
    " \n",
    "A = {\"a\": 0.2, \"b\": 0.3, \"c\": 0.6, \"d\": 0.6}\n",
    "B = {\"a\": 0.9, \"b\": 0.9, \"c\": 0.4, \"d\": 0.5}\n",
    " \n",
    "print('The First Fuzzy Set is :', A)\n",
    "print('The Second Fuzzy Set is :', B)\n",
    " \n",
    " \n",
    "for A_key, B_key in zip(A, B):\n",
    "    A_value = A[A_key]\n",
    "    B_value = B[B_key]\n",
    "    B_value = 1 - B_value\n",
    " \n",
    "    if A_value < B_value:\n",
    "        Y[A_key] = A_value\n",
    "    else:\n",
    "        Y[B_key] = B_value\n",
    "         \n",
    "print('Fuzzy Set Difference is :', Y)"
   ]
  },
  {
   "cell_type": "code",
   "execution_count": 22,
   "id": "2b1bab19",
   "metadata": {},
   "outputs": [
    {
     "ename": "TypeError",
     "evalue": "'dict' object is not callable",
     "output_type": "error",
     "traceback": [
      "\u001b[1;31m---------------------------------------------------------------------------\u001b[0m",
      "\u001b[1;31mTypeError\u001b[0m                                 Traceback (most recent call last)",
      "Input \u001b[1;32mIn [22]\u001b[0m, in \u001b[0;36m<cell line: 134>\u001b[1;34m()\u001b[0m\n\u001b[0;32m    137\u001b[0m B \u001b[38;5;241m=\u001b[39m {\u001b[38;5;124m\"\u001b[39m\u001b[38;5;124ma\u001b[39m\u001b[38;5;124m\"\u001b[39m: \u001b[38;5;241m0.9\u001b[39m, \u001b[38;5;124m\"\u001b[39m\u001b[38;5;124mb\u001b[39m\u001b[38;5;124m\"\u001b[39m: \u001b[38;5;241m0.9\u001b[39m, \u001b[38;5;124m\"\u001b[39m\u001b[38;5;124mc\u001b[39m\u001b[38;5;124m\"\u001b[39m: \u001b[38;5;241m0.4\u001b[39m, \u001b[38;5;124m\"\u001b[39m\u001b[38;5;124md\u001b[39m\u001b[38;5;124m\"\u001b[39m: \u001b[38;5;241m0.5\u001b[39m}\n\u001b[0;32m    139\u001b[0m fuzzylogic \u001b[38;5;241m=\u001b[39m FzSets(A,\u001b[38;5;124m'\u001b[39m\u001b[38;5;124mset A\u001b[39m\u001b[38;5;124m'\u001b[39m,B,\u001b[38;5;124m'\u001b[39m\u001b[38;5;124mset B\u001b[39m\u001b[38;5;124m'\u001b[39m)\n\u001b[1;32m--> 140\u001b[0m \u001b[43mfuzzylogic\u001b[49m\u001b[38;5;241;43m.\u001b[39;49m\u001b[43mintersection_AB\u001b[49m\u001b[43m(\u001b[49m\u001b[43m)\u001b[49m\n",
      "\u001b[1;31mTypeError\u001b[0m: 'dict' object is not callable"
     ]
    }
   ],
   "source": [
    "\n",
    "class FzSets:\n",
    " \n",
    "  def __init__(self):\n",
    "    self.A = dict()\n",
    "    self.B = dict()\n",
    "         \n",
    "    self.complement_A = dict()\n",
    "    self.complement_B = dict()\n",
    "    self.union_AB = dict()\n",
    "    self.intersection_AB = dict()\n",
    "    self.differenceAB = dict()\n",
    "    self.differenceBA = dict()\n",
    " \n",
    "    self.change_union = False\n",
    "    self.change_intersection = False\n",
    "    self.change_complement = False\n",
    " \n",
    "  def __init__(self,A,nA,B,nB):\n",
    "    self.A = A\n",
    "    self.B = B\n",
    "    self.Aname = nA\n",
    "    self.Bname = nB\n",
    "   \n",
    "    self.complement_A = dict()\n",
    "    self.complement_B = dict()\n",
    "    self.union_AB = dict()\n",
    "    self.intersection_AB = dict()\n",
    "    self.differenceAB = dict()\n",
    "    self.differenceBA = dict()\n",
    " \n",
    "    self.change_union = False\n",
    "    self.change_intersection = False\n",
    "    self.change_complement = False\n",
    "  \n",
    "  def unionOp(self):\n",
    "    if self.change_union:\n",
    "      print('Result of UNION operation :',self.union_AB)\n",
    "    else:\n",
    "       \n",
    "      #unionSet = set(self.A.keys()).union(self.B.keys())\n",
    "      sa = set(self.A.keys())\n",
    "      sb = set(self.B.keys())\n",
    "      intersectionSet = set(self.A.keys()).intersection(self.B.keys())\n",
    " \n",
    "      for i in intersectionSet:\n",
    "        self.union_AB[i] = max(self.A[i],self.B[i])\n",
    "      for i in sa-intersectionSet:\n",
    "        self.union_AB[i] = self.A[i]\n",
    "      for i in sb-intersectionSet:\n",
    "        self.union_AB[i] = self.B[i]\n",
    "       \n",
    "      print('Result of UNION operation :',self.union_AB)\n",
    "       \n",
    "   \n",
    "  def intersectionOp(self):\n",
    "    if self.change_intersection:\n",
    "      print('Result of INTERSECTION operation :\\n\\t\\t',self.intersection_AB)\n",
    "    else:\n",
    "       \n",
    "      #unionSet = set(self.A.keys()).union(self.B.keys())\n",
    "      sa = set(self.A.keys())\n",
    "      sb = set(self.B.keys())\n",
    "      intersectionSet = set(self.A.keys()).intersection(self.B.keys())\n",
    " \n",
    "      for i in intersectionSet:\n",
    "        self.intersection_AB[i] = min(self.A[i],self.B[i])\n",
    "      for i in sa-intersectionSet:\n",
    "        self.intersection_AB[i] = 0.0\n",
    "      for i in sb-intersectionSet:\n",
    "        self.intersection_AB[i] = 0.0\n",
    "       \n",
    "      print('Result of INTERSECTION operation :\\n\\t\\t',self.intersection_AB)\n",
    "      self.change_intersection = True\n",
    " \n",
    "  def complementOp(self):\n",
    "    if self.change_complement:\n",
    "      print('Result of COMPLEMENT on ',self.Aname,' operation :',self.complement_A)\n",
    "      print('Result of COMPLEMENT on ',self.Bname,' operation :',self.complement_B)\n",
    "    else:\n",
    "       \n",
    "      for i in self.A:\n",
    "        self.complement_A[i] = 1 - A[i]\n",
    "      for i in self.B:\n",
    "        self.complement_B[i] = 1 - B[i]\n",
    " \n",
    "      print('Result of COMPLEMENT on ',self.Aname,' operation :',self.complement_A)\n",
    "      print('Result of COMPLEMENT on ',self.Aname,' operation :',self.complement_B)\n",
    " \n",
    "      self.change_complement = True\n",
    "   \n",
    "  def __oneMinustwo(self,L,R):\n",
    "    minus_d = dict()\n",
    "    Rcomp = dict()\n",
    "    for i in R:\n",
    "      Rcomp[i] = 1 - R[i]\n",
    "    sa = set(L.keys())\n",
    "    sb = set(R.keys())\n",
    "    intersectionSet = sa.intersection(sb)   # min( A , complement(B) )\n",
    " \n",
    "    # l - r OR a - b\n",
    "    for i in intersectionSet:\n",
    "      minus_d[i] = min(L[i],Rcomp[i])\n",
    "    for i in sa-intersectionSet:\n",
    "      minus_d[i] = 0.0\n",
    "    for i in sb-intersectionSet:\n",
    "      minus_d[i] = 0.0\n",
    " \n",
    "    return minus_d\n",
    "       \n",
    "  def AminusB(self):\n",
    "    self.differenceAB = self.__oneMinustwo(self.A,self.B)\n",
    "    print('Result of DIFFERENCE ',self.Aname,' | ',self.Bname,' operation :\\n\\t\\t',self.differenceAB)\n",
    " \n",
    "  def BminusA(self):\n",
    "    self.differenceBA = self.__oneMinustwo(self.B,self.A)\n",
    "    print('Result of DIFFERENCE ',self.Bname,' | ',self.Aname,' operation :\\n\\t\\t',self.differenceBA)\n",
    " \n",
    "  def change_Setz(self,A,B):\n",
    "    self.A = A\n",
    "    self.B = B\n",
    " \n",
    "    print('\\nSet ',self.Aname,' :',self.A)\n",
    "    print('Set ',self.Bname,' :',self.B,end='')\n",
    " \n",
    "    self.change_union = True\n",
    "    self.change_intersection = True\n",
    "    self.change_complement = True\n",
    "    print('\\t\\t\\t Cache Reset')\n",
    " \n",
    "  def displaySets(self):\n",
    "    print('\\nSet ',self.Aname,' :',self.A)\n",
    "    print('Set ',self.Bname,' :'  ,self.B)\n",
    "    \n",
    "if __name__ == '__main__':\n",
    "    \n",
    "    A = {\"a\": 0.2, \"b\": 0.3, \"c\": 0.6, \"d\": 0.6}\n",
    "    B = {\"a\": 0.9, \"b\": 0.9, \"c\": 0.4, \"d\": 0.5}\n",
    "    \n",
    "    fuzzylogic = FzSets(A,'set A',B,'set B')\n",
    "    fuzzylogic.intersection_AB()\n",
    "    \n",
    "\n",
    "    \n",
    "\n"
   ]
  },
  {
   "cell_type": "code",
   "execution_count": 16,
   "id": "6d6b015a",
   "metadata": {},
   "outputs": [
    {
     "name": "stdout",
     "output_type": "stream",
     "text": [
      "The First Fuzzy Set is : {'a': 0.2, 'b': 0.3, 'c': 0.6, 'd': 0.6}\n",
      "The Second Fuzzy Set is : {'a': 0.9, 'b': 0.9, 'c': 0.4, 'd': 0.5}\n",
      "Fuzzy Set Complement is : {'a': 0.8, 'b': 0.7, 'c': 0.4, 'd': 0.4}\n",
      "Fuzzy Set Intersection is : {'a': 0.2, 'b': 0.3, 'c': 0.4, 'd': 0.5}\n"
     ]
    }
   ],
   "source": [
    "# Example to Demonstrate\n",
    "# Compliment and  Intersection of Two Fuzzy Sets\n",
    "A = dict()\n",
    "B = dict()\n",
    "Y = dict()\n",
    " \n",
    "A = {\"a\": 0.2, \"b\": 0.3, \"c\": 0.6, \"d\": 0.6}\n",
    "B = {\"a\": 0.9, \"b\": 0.9, \"c\": 0.4, \"d\": 0.5}\n",
    "\n",
    "\n",
    "\n",
    " \n",
    "print('The First Fuzzy Set is :', A)\n",
    "print('The Second Fuzzy Set is :', B)\n",
    "for A_key in A:\n",
    "   Y[A_key]= 1-A[A_key]\n",
    "print('Fuzzy Set Complement is :', Y)\n",
    " \n",
    "for A_key, B_key in zip(A, B):\n",
    "    A_value = A[A_key]\n",
    "    B_value = B[B_key]\n",
    " \n",
    "    if A_value < B_value:\n",
    "        Y[A_key] = A_value\n",
    "    else:\n",
    "        Y[B_key] = B_value\n",
    "print('Fuzzy Set Intersection is :', Y)\n"
   ]
  },
  {
   "cell_type": "markdown",
   "id": "cdc1593b",
   "metadata": {},
   "source": [
    "# BOLD Operation"
   ]
  },
  {
   "cell_type": "code",
   "execution_count": 23,
   "id": "05244128",
   "metadata": {},
   "outputs": [
    {
     "name": "stdout",
     "output_type": "stream",
     "text": [
      "The First Fuzzy Set is : {'a': 0.2, 'b': 0.3, 'c': 0.6, 'd': 0.6}\n",
      "The Second Fuzzy Set is : {'a': 0.9, 'b': 0.9, 'c': 0.4, 'd': 0.5}\n",
      "Fuzzy Set Complement is : {'a': 0.8, 'b': 0.7, 'c': 0.4, 'd': 0.4}\n",
      "Fuzzy Set bold is : {'a': 1, 'b': 1, 'c': 1.0, 'd': 1}\n"
     ]
    }
   ],
   "source": [
    "# Example to Demonstrate\n",
    "# bold operation of Two Fuzzy Sets\n",
    "A = dict()\n",
    "B = dict()\n",
    "Y = dict()\n",
    " \n",
    "A = {\"a\": 0.2, \"b\": 0.3, \"c\": 0.6, \"d\": 0.6}\n",
    "B = {\"a\": 0.9, \"b\": 0.9, \"c\": 0.4, \"d\": 0.5}\n",
    "\n",
    "\n",
    "\n",
    " \n",
    "print('The First Fuzzy Set is :', A)\n",
    "print('The Second Fuzzy Set is :', B)\n",
    "\n",
    " \n",
    "for A_key, B_key in zip(A, B):\n",
    "    A_value = A[A_key]\n",
    "    B_value = B[B_key]\n",
    " \n",
    "    if 1 < A_value + B_value:\n",
    "        Y[A_key] = 1\n",
    "    else:\n",
    "        Y[B_key] = A_value + B_value\n",
    "print('Fuzzy Set bold is :', Y)\n"
   ]
  },
  {
   "cell_type": "markdown",
   "id": "aca68908",
   "metadata": {},
   "source": [
    "# BOLD Intersaction"
   ]
  },
  {
   "cell_type": "code",
   "execution_count": 30,
   "id": "91b7df3c",
   "metadata": {},
   "outputs": [
    {
     "name": "stdout",
     "output_type": "stream",
     "text": [
      "The First Fuzzy Set is : {'a': 0.2, 'b': 0.3, 'c': 0.6, 'd': 0.6}\n",
      "The Second Fuzzy Set is : {'a': 0.9, 'b': 0.9, 'c': 0.4, 'd': 0.5}\n",
      "Fuzzy Set bold intersaction is : {'a': 0.10000000000000009, 'b': 0.19999999999999996, 'c': 0, 'd': 0.10000000000000009}\n"
     ]
    }
   ],
   "source": [
    "# Example to Demonstrate\n",
    "# bold operation of Two Fuzzy Sets\n",
    "A = dict()\n",
    "B = dict()\n",
    "Y = dict()\n",
    " \n",
    "A = {\"a\": 0.2, \"b\": 0.3, \"c\": 0.6, \"d\": 0.6}\n",
    "B = {\"a\": 0.9, \"b\": 0.9, \"c\": 0.4, \"d\": 0.5}\n",
    "\n",
    "\n",
    "\n",
    " \n",
    "print('The First Fuzzy Set is :', A)\n",
    "print('The Second Fuzzy Set is :', B)\n",
    "\n",
    " \n",
    "for A_key, B_key in zip(A, B):\n",
    "    A_value = A[A_key]\n",
    "    B_value = B[B_key]\n",
    "    c= A_value + B_value -1\n",
    "    if c <= 0:\n",
    "        Y[A_key] = 0\n",
    "    else:\n",
    "        Y[A_key] = c\n",
    "print('Fuzzy Set bold intersaction is :', Y)"
   ]
  },
  {
   "cell_type": "code",
   "execution_count": null,
   "id": "55be8aa8",
   "metadata": {},
   "outputs": [],
   "source": []
  },
  {
   "cell_type": "code",
   "execution_count": null,
   "id": "d5721f02",
   "metadata": {},
   "outputs": [],
   "source": []
  }
 ],
 "metadata": {
  "kernelspec": {
   "display_name": "Python 3 (ipykernel)",
   "language": "python",
   "name": "python3"
  },
  "language_info": {
   "codemirror_mode": {
    "name": "ipython",
    "version": 3
   },
   "file_extension": ".py",
   "mimetype": "text/x-python",
   "name": "python",
   "nbconvert_exporter": "python",
   "pygments_lexer": "ipython3",
   "version": "3.10.5"
  }
 },
 "nbformat": 4,
 "nbformat_minor": 5
}
