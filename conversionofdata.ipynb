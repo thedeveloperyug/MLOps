{
 "cells": [
  {
   "cell_type": "markdown",
   "id": "014ce1cd",
   "metadata": {},
   "source": [
    "# convert the data into numerical form."
   ]
  },
  {
   "cell_type": "code",
   "execution_count": 2,
   "id": "9980c0bd",
   "metadata": {},
   "outputs": [],
   "source": [
    "import numpy as np \n",
    "import pandas as pd "
   ]
  },
  {
   "cell_type": "code",
   "execution_count": 17,
   "id": "141ca3ed",
   "metadata": {},
   "outputs": [],
   "source": [
    "cricketers = {\n",
    "    'name':['virat','rohit','shohib'],\n",
    "    'Age':[31,32,33],\n",
    "    'Grade':['best','better','good'],\n",
    "    'Role':['Batsman','Batsman','baller'],\n",
    "    'Rating':[870,875,770],\n",
    "    'country':['India','India','pak']\n",
    "    \n",
    "}"
   ]
  },
  {
   "cell_type": "code",
   "execution_count": 18,
   "id": "bdb7c418",
   "metadata": {},
   "outputs": [
    {
     "data": {
      "text/plain": [
       "dict"
      ]
     },
     "execution_count": 18,
     "metadata": {},
     "output_type": "execute_result"
    }
   ],
   "source": [
    "cricketers['name']\n",
    "type(cricketers)"
   ]
  },
  {
   "cell_type": "code",
   "execution_count": 19,
   "id": "7d21e6f3",
   "metadata": {},
   "outputs": [],
   "source": [
    "cricketers = pd.DataFrame(cricketers)"
   ]
  },
  {
   "cell_type": "code",
   "execution_count": 20,
   "id": "a21c509a",
   "metadata": {},
   "outputs": [
    {
     "data": {
      "text/html": [
       "<div>\n",
       "<style scoped>\n",
       "    .dataframe tbody tr th:only-of-type {\n",
       "        vertical-align: middle;\n",
       "    }\n",
       "\n",
       "    .dataframe tbody tr th {\n",
       "        vertical-align: top;\n",
       "    }\n",
       "\n",
       "    .dataframe thead th {\n",
       "        text-align: right;\n",
       "    }\n",
       "</style>\n",
       "<table border=\"1\" class=\"dataframe\">\n",
       "  <thead>\n",
       "    <tr style=\"text-align: right;\">\n",
       "      <th></th>\n",
       "      <th>name</th>\n",
       "      <th>Age</th>\n",
       "      <th>Grade</th>\n",
       "      <th>Role</th>\n",
       "      <th>Rating</th>\n",
       "      <th>country</th>\n",
       "    </tr>\n",
       "  </thead>\n",
       "  <tbody>\n",
       "    <tr>\n",
       "      <th>0</th>\n",
       "      <td>virat</td>\n",
       "      <td>31</td>\n",
       "      <td>best</td>\n",
       "      <td>Batsman</td>\n",
       "      <td>870</td>\n",
       "      <td>India</td>\n",
       "    </tr>\n",
       "    <tr>\n",
       "      <th>1</th>\n",
       "      <td>rohit</td>\n",
       "      <td>32</td>\n",
       "      <td>better</td>\n",
       "      <td>Batsman</td>\n",
       "      <td>875</td>\n",
       "      <td>India</td>\n",
       "    </tr>\n",
       "    <tr>\n",
       "      <th>2</th>\n",
       "      <td>shohib</td>\n",
       "      <td>33</td>\n",
       "      <td>good</td>\n",
       "      <td>baller</td>\n",
       "      <td>770</td>\n",
       "      <td>pak</td>\n",
       "    </tr>\n",
       "  </tbody>\n",
       "</table>\n",
       "</div>"
      ],
      "text/plain": [
       "     name  Age   Grade     Role  Rating country\n",
       "0   virat   31    best  Batsman     870   India\n",
       "1   rohit   32  better  Batsman     875   India\n",
       "2  shohib   33    good   baller     770     pak"
      ]
     },
     "execution_count": 20,
     "metadata": {},
     "output_type": "execute_result"
    }
   ],
   "source": [
    "cricketers"
   ]
  },
  {
   "cell_type": "code",
   "execution_count": 21,
   "id": "93eaec42",
   "metadata": {},
   "outputs": [
    {
     "data": {
      "text/plain": [
       "pandas.core.frame.DataFrame"
      ]
     },
     "execution_count": 21,
     "metadata": {},
     "output_type": "execute_result"
    }
   ],
   "source": [
    "type(cricketers)"
   ]
  },
  {
   "cell_type": "code",
   "execution_count": 22,
   "id": "a491afcc",
   "metadata": {},
   "outputs": [],
   "source": [
    "datamapping = {\n",
    "    \"best\":3,\n",
    "    \"better\":2,\n",
    "    \"good\":1\n",
    "}"
   ]
  },
  {
   "cell_type": "code",
   "execution_count": 23,
   "id": "c809a8d1",
   "metadata": {},
   "outputs": [
    {
     "data": {
      "text/plain": [
       "{'best': 3, 'better': 2, 'good': 1}"
      ]
     },
     "execution_count": 23,
     "metadata": {},
     "output_type": "execute_result"
    }
   ],
   "source": [
    "datamapping"
   ]
  },
  {
   "cell_type": "code",
   "execution_count": 24,
   "id": "eb30a160",
   "metadata": {},
   "outputs": [],
   "source": [
    "cricketers['GradeNew']= cricketers['Grade'].map(datamapping)"
   ]
  },
  {
   "cell_type": "code",
   "execution_count": 26,
   "id": "ced4e245",
   "metadata": {},
   "outputs": [],
   "source": [
    "import seaborn as sns"
   ]
  },
  {
   "cell_type": "code",
   "execution_count": 27,
   "id": "56873b74",
   "metadata": {},
   "outputs": [
    {
     "data": {
      "text/html": [
       "<div>\n",
       "<style scoped>\n",
       "    .dataframe tbody tr th:only-of-type {\n",
       "        vertical-align: middle;\n",
       "    }\n",
       "\n",
       "    .dataframe tbody tr th {\n",
       "        vertical-align: top;\n",
       "    }\n",
       "\n",
       "    .dataframe thead th {\n",
       "        text-align: right;\n",
       "    }\n",
       "</style>\n",
       "<table border=\"1\" class=\"dataframe\">\n",
       "  <thead>\n",
       "    <tr style=\"text-align: right;\">\n",
       "      <th></th>\n",
       "      <th>name</th>\n",
       "      <th>Age</th>\n",
       "      <th>Grade</th>\n",
       "      <th>Role</th>\n",
       "      <th>Rating</th>\n",
       "      <th>country</th>\n",
       "      <th>GradeNew</th>\n",
       "    </tr>\n",
       "  </thead>\n",
       "  <tbody>\n",
       "    <tr>\n",
       "      <th>0</th>\n",
       "      <td>virat</td>\n",
       "      <td>31</td>\n",
       "      <td>best</td>\n",
       "      <td>Batsman</td>\n",
       "      <td>870</td>\n",
       "      <td>India</td>\n",
       "      <td>3</td>\n",
       "    </tr>\n",
       "    <tr>\n",
       "      <th>1</th>\n",
       "      <td>rohit</td>\n",
       "      <td>32</td>\n",
       "      <td>better</td>\n",
       "      <td>Batsman</td>\n",
       "      <td>875</td>\n",
       "      <td>India</td>\n",
       "      <td>2</td>\n",
       "    </tr>\n",
       "    <tr>\n",
       "      <th>2</th>\n",
       "      <td>shohib</td>\n",
       "      <td>33</td>\n",
       "      <td>good</td>\n",
       "      <td>baller</td>\n",
       "      <td>770</td>\n",
       "      <td>pak</td>\n",
       "      <td>1</td>\n",
       "    </tr>\n",
       "  </tbody>\n",
       "</table>\n",
       "</div>"
      ],
      "text/plain": [
       "     name  Age   Grade     Role  Rating country  GradeNew\n",
       "0   virat   31    best  Batsman     870   India         3\n",
       "1   rohit   32  better  Batsman     875   India         2\n",
       "2  shohib   33    good   baller     770     pak         1"
      ]
     },
     "execution_count": 27,
     "metadata": {},
     "output_type": "execute_result"
    }
   ],
   "source": [
    "cricketers"
   ]
  },
  {
   "cell_type": "code",
   "execution_count": 28,
   "id": "ad4ff464",
   "metadata": {},
   "outputs": [],
   "source": [
    "data = pd.get_dummies(cricketers['Grade'])"
   ]
  },
  {
   "cell_type": "code",
   "execution_count": 29,
   "id": "df20deb9",
   "metadata": {},
   "outputs": [
    {
     "data": {
      "text/html": [
       "<div>\n",
       "<style scoped>\n",
       "    .dataframe tbody tr th:only-of-type {\n",
       "        vertical-align: middle;\n",
       "    }\n",
       "\n",
       "    .dataframe tbody tr th {\n",
       "        vertical-align: top;\n",
       "    }\n",
       "\n",
       "    .dataframe thead th {\n",
       "        text-align: right;\n",
       "    }\n",
       "</style>\n",
       "<table border=\"1\" class=\"dataframe\">\n",
       "  <thead>\n",
       "    <tr style=\"text-align: right;\">\n",
       "      <th></th>\n",
       "      <th>best</th>\n",
       "      <th>better</th>\n",
       "      <th>good</th>\n",
       "    </tr>\n",
       "  </thead>\n",
       "  <tbody>\n",
       "    <tr>\n",
       "      <th>0</th>\n",
       "      <td>1</td>\n",
       "      <td>0</td>\n",
       "      <td>0</td>\n",
       "    </tr>\n",
       "    <tr>\n",
       "      <th>1</th>\n",
       "      <td>0</td>\n",
       "      <td>1</td>\n",
       "      <td>0</td>\n",
       "    </tr>\n",
       "    <tr>\n",
       "      <th>2</th>\n",
       "      <td>0</td>\n",
       "      <td>0</td>\n",
       "      <td>1</td>\n",
       "    </tr>\n",
       "  </tbody>\n",
       "</table>\n",
       "</div>"
      ],
      "text/plain": [
       "   best  better  good\n",
       "0     1       0     0\n",
       "1     0       1     0\n",
       "2     0       0     1"
      ]
     },
     "execution_count": 29,
     "metadata": {},
     "output_type": "execute_result"
    }
   ],
   "source": [
    "data"
   ]
  },
  {
   "cell_type": "code",
   "execution_count": 30,
   "id": "84c59c25",
   "metadata": {},
   "outputs": [],
   "source": [
    "from sklearn.preprocessing import LabelEncoder"
   ]
  },
  {
   "cell_type": "code",
   "execution_count": 31,
   "id": "01bb8cc4",
   "metadata": {},
   "outputs": [],
   "source": [
    "le = LabelEncoder()"
   ]
  },
  {
   "cell_type": "code",
   "execution_count": 32,
   "id": "db19b4ae",
   "metadata": {},
   "outputs": [],
   "source": [
    "label = le.fit_transform(cricketers[\"Grade\"])"
   ]
  },
  {
   "cell_type": "code",
   "execution_count": 33,
   "id": "44f823b4",
   "metadata": {},
   "outputs": [
    {
     "data": {
      "text/plain": [
       "array(['best', 'better', 'good'], dtype=object)"
      ]
     },
     "execution_count": 33,
     "metadata": {},
     "output_type": "execute_result"
    }
   ],
   "source": [
    "le.classes_"
   ]
  },
  {
   "cell_type": "code",
   "execution_count": 39,
   "id": "c7f28510",
   "metadata": {},
   "outputs": [],
   "source": [
    "Data = cricketers.drop(\"Grade\", axis =1)   ##we're dropping this column"
   ]
  },
  {
   "cell_type": "code",
   "execution_count": 40,
   "id": "781baaf0",
   "metadata": {},
   "outputs": [
    {
     "data": {
      "text/html": [
       "<div>\n",
       "<style scoped>\n",
       "    .dataframe tbody tr th:only-of-type {\n",
       "        vertical-align: middle;\n",
       "    }\n",
       "\n",
       "    .dataframe tbody tr th {\n",
       "        vertical-align: top;\n",
       "    }\n",
       "\n",
       "    .dataframe thead th {\n",
       "        text-align: right;\n",
       "    }\n",
       "</style>\n",
       "<table border=\"1\" class=\"dataframe\">\n",
       "  <thead>\n",
       "    <tr style=\"text-align: right;\">\n",
       "      <th></th>\n",
       "      <th>name</th>\n",
       "      <th>Age</th>\n",
       "      <th>Role</th>\n",
       "      <th>Rating</th>\n",
       "      <th>country</th>\n",
       "      <th>GradeNew</th>\n",
       "    </tr>\n",
       "  </thead>\n",
       "  <tbody>\n",
       "    <tr>\n",
       "      <th>0</th>\n",
       "      <td>virat</td>\n",
       "      <td>31</td>\n",
       "      <td>Batsman</td>\n",
       "      <td>870</td>\n",
       "      <td>India</td>\n",
       "      <td>3</td>\n",
       "    </tr>\n",
       "    <tr>\n",
       "      <th>1</th>\n",
       "      <td>rohit</td>\n",
       "      <td>32</td>\n",
       "      <td>Batsman</td>\n",
       "      <td>875</td>\n",
       "      <td>India</td>\n",
       "      <td>2</td>\n",
       "    </tr>\n",
       "    <tr>\n",
       "      <th>2</th>\n",
       "      <td>shohib</td>\n",
       "      <td>33</td>\n",
       "      <td>baller</td>\n",
       "      <td>770</td>\n",
       "      <td>pak</td>\n",
       "      <td>1</td>\n",
       "    </tr>\n",
       "  </tbody>\n",
       "</table>\n",
       "</div>"
      ],
      "text/plain": [
       "     name  Age     Role  Rating country  GradeNew\n",
       "0   virat   31  Batsman     870   India         3\n",
       "1   rohit   32  Batsman     875   India         2\n",
       "2  shohib   33   baller     770     pak         1"
      ]
     },
     "execution_count": 40,
     "metadata": {},
     "output_type": "execute_result"
    }
   ],
   "source": [
    "Data"
   ]
  },
  {
   "cell_type": "code",
   "execution_count": 42,
   "id": "b6185aa3",
   "metadata": {},
   "outputs": [],
   "source": [
    "Data[\"Grade\"] = label"
   ]
  },
  {
   "cell_type": "code",
   "execution_count": 43,
   "id": "be49f004",
   "metadata": {},
   "outputs": [
    {
     "data": {
      "text/html": [
       "<div>\n",
       "<style scoped>\n",
       "    .dataframe tbody tr th:only-of-type {\n",
       "        vertical-align: middle;\n",
       "    }\n",
       "\n",
       "    .dataframe tbody tr th {\n",
       "        vertical-align: top;\n",
       "    }\n",
       "\n",
       "    .dataframe thead th {\n",
       "        text-align: right;\n",
       "    }\n",
       "</style>\n",
       "<table border=\"1\" class=\"dataframe\">\n",
       "  <thead>\n",
       "    <tr style=\"text-align: right;\">\n",
       "      <th></th>\n",
       "      <th>name</th>\n",
       "      <th>Age</th>\n",
       "      <th>Role</th>\n",
       "      <th>Rating</th>\n",
       "      <th>country</th>\n",
       "      <th>GradeNew</th>\n",
       "      <th>Grade</th>\n",
       "    </tr>\n",
       "  </thead>\n",
       "  <tbody>\n",
       "    <tr>\n",
       "      <th>0</th>\n",
       "      <td>virat</td>\n",
       "      <td>31</td>\n",
       "      <td>Batsman</td>\n",
       "      <td>870</td>\n",
       "      <td>India</td>\n",
       "      <td>3</td>\n",
       "      <td>0</td>\n",
       "    </tr>\n",
       "    <tr>\n",
       "      <th>1</th>\n",
       "      <td>rohit</td>\n",
       "      <td>32</td>\n",
       "      <td>Batsman</td>\n",
       "      <td>875</td>\n",
       "      <td>India</td>\n",
       "      <td>2</td>\n",
       "      <td>1</td>\n",
       "    </tr>\n",
       "    <tr>\n",
       "      <th>2</th>\n",
       "      <td>shohib</td>\n",
       "      <td>33</td>\n",
       "      <td>baller</td>\n",
       "      <td>770</td>\n",
       "      <td>pak</td>\n",
       "      <td>1</td>\n",
       "      <td>2</td>\n",
       "    </tr>\n",
       "  </tbody>\n",
       "</table>\n",
       "</div>"
      ],
      "text/plain": [
       "     name  Age     Role  Rating country  GradeNew  Grade\n",
       "0   virat   31  Batsman     870   India         3      0\n",
       "1   rohit   32  Batsman     875   India         2      1\n",
       "2  shohib   33   baller     770     pak         1      2"
      ]
     },
     "execution_count": 43,
     "metadata": {},
     "output_type": "execute_result"
    }
   ],
   "source": [
    "Data\n"
   ]
  },
  {
   "cell_type": "code",
   "execution_count": null,
   "id": "b1550350",
   "metadata": {},
   "outputs": [],
   "source": []
  },
  {
   "cell_type": "code",
   "execution_count": null,
   "id": "0b43aca7",
   "metadata": {},
   "outputs": [],
   "source": []
  }
 ],
 "metadata": {
  "kernelspec": {
   "display_name": "Python 3 (ipykernel)",
   "language": "python",
   "name": "python3"
  },
  "language_info": {
   "codemirror_mode": {
    "name": "ipython",
    "version": 3
   },
   "file_extension": ".py",
   "mimetype": "text/x-python",
   "name": "python",
   "nbconvert_exporter": "python",
   "pygments_lexer": "ipython3",
   "version": "3.10.5"
  }
 },
 "nbformat": 4,
 "nbformat_minor": 5
}
