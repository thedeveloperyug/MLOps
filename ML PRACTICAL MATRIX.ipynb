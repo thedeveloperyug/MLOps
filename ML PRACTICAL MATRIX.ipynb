{
 "cells": [
  {
   "cell_type": "markdown",
   "id": "f8cf49db",
   "metadata": {},
   "source": [
    "# CHECK GIVEN ELEMENT IS SCALAR OR NOT "
   ]
  },
  {
   "cell_type": "code",
   "execution_count": 1,
   "id": "22f2ddf8",
   "metadata": {},
   "outputs": [],
   "source": [
    "import numpy as np"
   ]
  },
  {
   "cell_type": "code",
   "execution_count": 13,
   "id": "1158a700",
   "metadata": {},
   "outputs": [
    {
     "name": "stdout",
     "output_type": "stream",
     "text": [
      "[[ 1  2  3  4  5 -1  7  4 -2]]\n"
     ]
    }
   ],
   "source": [
    "a =np.array([[1,2,3],[4,5,-1],[7,4,-2]])\n",
    "a\n",
    "\n",
    "\n",
    "# print(np.square(a[1][]))\n",
    "# print(np.linalg.det(a))\n",
    "print(a.reshape(1,9))"
   ]
  },
  {
   "cell_type": "code",
   "execution_count": 33,
   "id": "a94a62b0",
   "metadata": {},
   "outputs": [
    {
     "data": {
      "text/plain": [
       "array([[45, 54, 81, 72],\n",
       "       [20, 24, 36, 32]])"
      ]
     },
     "execution_count": 33,
     "metadata": {},
     "output_type": "execute_result"
    }
   ],
   "source": [
    "# a = np.array([[1,2],[3,4]])\n",
    "# b = np.array([8,18])\n",
    "# print((np.linalg.solve(a,b)))\n",
    "\n",
    "a = [[9,4]]\n",
    "b = [[5,6],[9,8]]\n",
    "np.outer(a,b)\n",
    "# numbers = (4,7,19,2,89,45,72,22)\n",
    "# sorted_numbers = sorted(numbers)\n",
    "# print(type(sorted_numbers))\n",
    "\n",
    "# dict1 = {'first':'sunday','second':'monday'}\n",
    "# dict2 = {1:3,2:4}\n",
    "# dict1.update(dict2)\n",
    "# print(dict1)\n",
    "\n",
    "# a= {'Hello':'World', 'First':1}\n",
    "# b = {val:k for k, val in a.items()}\n",
    "# print(b)\n",
    "\n",
    "# example = [\"Sunday\",\"Monday\",\"Tuesday\",\"Wednesday\"];\n",
    "# print(example[-3:-1])"
   ]
  },
  {
   "cell_type": "code",
   "execution_count": 2,
   "id": "1cf99888",
   "metadata": {},
   "outputs": [],
   "source": [
    "a = [1,2,3,4,4,5]\n",
    "b = 5"
   ]
  },
  {
   "cell_type": "code",
   "execution_count": 3,
   "id": "a7d213f9",
   "metadata": {},
   "outputs": [],
   "source": [
    "isScaler_value1 = np.isscalar(a)\n",
    "# isScaler_value1 = numpy.isscalar(a) // not working while use numpy after defining as np\n",
    "isScaler_value2 = np.isscalar(b)"
   ]
  },
  {
   "cell_type": "code",
   "execution_count": 4,
   "id": "a7b332e9",
   "metadata": {},
   "outputs": [
    {
     "name": "stdout",
     "output_type": "stream",
     "text": [
      "False\n"
     ]
    }
   ],
   "source": [
    "print(isScaler_value1)"
   ]
  },
  {
   "cell_type": "code",
   "execution_count": 5,
   "id": "8c8756b3",
   "metadata": {},
   "outputs": [
    {
     "name": "stdout",
     "output_type": "stream",
     "text": [
      "True\n"
     ]
    }
   ],
   "source": [
    "print(isScaler_value2)"
   ]
  },
  {
   "cell_type": "markdown",
   "id": "e4627c72",
   "metadata": {},
   "source": [
    "# Find the minimum product of two vector "
   ]
  },
  {
   "cell_type": "code",
   "execution_count": 6,
   "id": "c8b10e8e",
   "metadata": {},
   "outputs": [
    {
     "name": "stdout",
     "output_type": "stream",
     "text": [
      "[45, 10, 7, 7, 3]\n"
     ]
    }
   ],
   "source": [
    "arr1 = [1,2,6,3,7]\n",
    "arr2 = [10,7,45,3,7]\n",
    "arr1.sort()\n",
    "arr2.sort(reverse=True)\n",
    "arr3 = 0\n",
    "print(arr2)"
   ]
  },
  {
   "cell_type": "code",
   "execution_count": 7,
   "id": "de32eedf",
   "metadata": {},
   "outputs": [],
   "source": [
    "for i in range(len(arr1)):\n",
    "        arr3 += arr1[i]*arr2[i]\n",
    "        "
   ]
  },
  {
   "cell_type": "code",
   "execution_count": 8,
   "id": "1e60a296",
   "metadata": {},
   "outputs": [
    {
     "name": "stdout",
     "output_type": "stream",
     "text": [
      "149\n"
     ]
    }
   ],
   "source": [
    "print(arr3)"
   ]
  },
  {
   "cell_type": "markdown",
   "id": "679e0399",
   "metadata": {},
   "source": [
    "## Write a program to work with vector"
   ]
  },
  {
   "cell_type": "code",
   "execution_count": 9,
   "id": "c03e0bc4",
   "metadata": {},
   "outputs": [
    {
     "name": "stdout",
     "output_type": "stream",
     "text": [
      "[[ 2  4  6]\n",
      " [ 4  6  8]\n",
      " [ 6  9 15]]\n"
     ]
    }
   ],
   "source": [
    "a = np.array([[1,2,3],[2,3,4],[2,4,6]])\n",
    "b = np.array([[1,2,3],[2,3,4],[4,5,9]])\n",
    "##3*3 matrix\n",
    "c = a+b \n",
    "add = np.add(a,b)\n",
    "print(add)"
   ]
  },
  {
   "cell_type": "code",
   "execution_count": 5,
   "id": "66281414",
   "metadata": {},
   "outputs": [
    {
     "name": "stdout",
     "output_type": "stream",
     "text": [
      "[[1 2 3]\n",
      " [2 3 4]]\n",
      "[[ 1  4  9]\n",
      " [ 4  9 16]]\n"
     ]
    }
   ],
   "source": [
    "a = np.array([[1,2,3],[2,3,4]])\n",
    "b = np.array([[1,2,3],[2,3,4]])\n",
    "c = a*b\n",
    "mul = np.multiply(a,b)\n",
    "print(mul)"
   ]
  },
  {
   "cell_type": "code",
   "execution_count": 11,
   "id": "4941e8b4",
   "metadata": {},
   "outputs": [
    {
     "name": "stdout",
     "output_type": "stream",
     "text": [
      "[[0 0 0]\n",
      " [0 0 0]]\n"
     ]
    }
   ],
   "source": [
    "a = np.array([[1,2,3],[2,3,4]])\n",
    "b = np.array([[1,2,3],[2,3,4]])\n",
    "sub = np.subtract(a,b)\n",
    "c = a-b\n",
    "print(sub)"
   ]
  },
  {
   "cell_type": "code",
   "execution_count": 12,
   "id": "39837fe4",
   "metadata": {},
   "outputs": [],
   "source": [
    "a = \"rs\"\n",
    "b = \"am\""
   ]
  },
  {
   "cell_type": "code",
   "execution_count": 13,
   "id": "5419e470",
   "metadata": {},
   "outputs": [
    {
     "name": "stdout",
     "output_type": "stream",
     "text": [
      "sam\n",
      "ram\n"
     ]
    }
   ],
   "source": [
    "c = a[1]+b\n",
    "d = a[0]+b\n",
    "print(c,end = \"\\n\")\n",
    "print(d)"
   ]
  },
  {
   "cell_type": "code",
   "execution_count": 17,
   "id": "19d79a58",
   "metadata": {},
   "outputs": [
    {
     "name": "stdout",
     "output_type": "stream",
     "text": [
      "enter any char\n",
      "jello\n"
     ]
    }
   ],
   "source": [
    "msg = \"hello\"\n",
    "b = \"j\"\n",
    "string_input = input(\"enter any char\")\n",
    "res = string_input + msg[1:]\n",
    "res = b + msg[1:]\n",
    "print(res)"
   ]
  },
  {
   "cell_type": "code",
   "execution_count": 18,
   "id": "b3de2834",
   "metadata": {},
   "outputs": [
    {
     "name": "stdout",
     "output_type": "stream",
     "text": [
      "jello\n"
     ]
    }
   ],
   "source": [
    "msg = \"hello\"\n",
    "b = \"j\"\n",
    "# string_input = input(\"enter any char\")\n",
    "res = msg.replace(msg,b) + msg[1:]\n",
    "\n",
    "print(res)"
   ]
  },
  {
   "cell_type": "code",
   "execution_count": null,
   "id": "cd6478f2",
   "metadata": {},
   "outputs": [],
   "source": [
    "# a = [4,2,6]\n",
    "# for i in range(len(a)):\n",
    "#     for j in range(len(a-1)):\n",
    "#         if(a[i]<a[j]):\n",
    "#             a[i] = [j]"
   ]
  },
  {
   "cell_type": "code",
   "execution_count": 21,
   "id": "e0764671",
   "metadata": {},
   "outputs": [
    {
     "name": "stdout",
     "output_type": "stream",
     "text": [
      "[[1 2]\n",
      " [3 4]]\n"
     ]
    }
   ],
   "source": [
    "###################### 19/08/2022 ###############\n",
    "A = np.mat(\"1 2; 3 4\") ##2*2\n",
    "print(A)"
   ]
  },
  {
   "cell_type": "code",
   "execution_count": 23,
   "id": "1c07c54d",
   "metadata": {},
   "outputs": [
    {
     "name": "stdout",
     "output_type": "stream",
     "text": [
      "Eigen Value [-0.37228132  5.37228132]\n"
     ]
    }
   ],
   "source": [
    "print(\"Eigen Value\", np.linalg.eigvals(A))\n",
    "np.linalg."
   ]
  },
  {
   "cell_type": "code",
   "execution_count": 40,
   "id": "1689e9f6",
   "metadata": {},
   "outputs": [],
   "source": [
    "eigenvalue, eigenvector = np.linalg.eig(A)  ##eigenvalue & eigenvector"
   ]
  },
  {
   "cell_type": "code",
   "execution_count": 41,
   "id": "7ebf215c",
   "metadata": {},
   "outputs": [
    {
     "data": {
      "text/plain": [
       "(array([-0.37228132,  5.37228132]),\n",
       " matrix([[-0.82456484, -0.41597356],\n",
       "         [ 0.56576746, -0.90937671]]))"
      ]
     },
     "execution_count": 41,
     "metadata": {},
     "output_type": "execute_result"
    }
   ],
   "source": [
    "eigenvalue, eigenvector\n"
   ]
  },
  {
   "cell_type": "code",
   "execution_count": 42,
   "id": "58c632dd",
   "metadata": {},
   "outputs": [],
   "source": [
    "B=[[12,3],[14,15]]  ##2*2 matrix"
   ]
  },
  {
   "cell_type": "code",
   "execution_count": 43,
   "id": "88feeeb3",
   "metadata": {},
   "outputs": [
    {
     "data": {
      "text/plain": [
       "(array([-0.58012784, 27.58012784]),\n",
       " array([[-0.7438189 ,  0.66838121],\n",
       "        [ 0.66838121,  0.7438189 ]]))"
      ]
     },
     "execution_count": 43,
     "metadata": {},
     "output_type": "execute_result"
    }
   ],
   "source": [
    "np.linalg.eigh(B)  ##eigen vector of B (for imaginary value)"
   ]
  },
  {
   "cell_type": "markdown",
   "id": "742875de",
   "metadata": {},
   "source": [
    "# SINGULAR MATRIX (Matrix which diterminants = 0)"
   ]
  },
  {
   "cell_type": "code",
   "execution_count": 70,
   "id": "fb1e63b3",
   "metadata": {},
   "outputs": [
    {
     "name": "stdout",
     "output_type": "stream",
     "text": [
      "0\n",
      "6\n"
     ]
    },
    {
     "data": {
      "text/plain": [
       "[[6, 3], [4, 3]]"
      ]
     },
     "execution_count": 70,
     "metadata": {},
     "output_type": "execute_result"
    }
   ],
   "source": [
    "A=[[1,4],[1,4]]\n",
    "B=[[6,3],[4,3]]\n",
    "print(int(np.linalg.det(A))) ##check singular matrix\n",
    "print(int(np.linalg.det(B))) ##check singular matrix\n",
    "B"
   ]
  },
  {
   "cell_type": "code",
   "execution_count": 71,
   "id": "a159210e",
   "metadata": {},
   "outputs": [
    {
     "name": "stdout",
     "output_type": "stream",
     "text": [
      "[[ 0.5        -0.5       ]\n",
      " [-0.66666667  1.        ]]\n"
     ]
    }
   ],
   "source": [
    "print(np.linalg.inv(B)) ##find inverse of matrix"
   ]
  },
  {
   "cell_type": "code",
   "execution_count": 85,
   "id": "56fc8e15",
   "metadata": {},
   "outputs": [],
   "source": [
    "matrix1 = [[1,9,8], [2,7,6], [7,20,9]]\n",
    "X = [4,2,-8]"
   ]
  },
  {
   "cell_type": "code",
   "execution_count": 86,
   "id": "5b1997e3",
   "metadata": {},
   "outputs": [],
   "source": [
    "E,V =  np.linalg.eig(matrix1)"
   ]
  },
  {
   "cell_type": "code",
   "execution_count": 87,
   "id": "e17e1b7c",
   "metadata": {},
   "outputs": [
    {
     "data": {
      "text/plain": [
       "(array([22.32558765, -0.87573002, -4.44985763]),\n",
       " array([[-0.46017333, -0.84332165, -0.62115879],\n",
       "        [-0.37509519,  0.44438763, -0.27588126],\n",
       "        [-0.80470125, -0.30220562,  0.73351979]]))"
      ]
     },
     "execution_count": 87,
     "metadata": {},
     "output_type": "execute_result"
    }
   ],
   "source": [
    "E,V"
   ]
  },
  {
   "cell_type": "code",
   "execution_count": 88,
   "id": "ce38495a",
   "metadata": {},
   "outputs": [
    {
     "name": "stdout",
     "output_type": "stream",
     "text": [
      "22.3255876514531 [-0.46017333 -0.37509519 -0.80470125]\n"
     ]
    }
   ],
   "source": [
    "print(E[0],V[:,0]) ##for vector 1 only"
   ]
  },
  {
   "cell_type": "code",
   "execution_count": 89,
   "id": "4ef47ea9",
   "metadata": {},
   "outputs": [
    {
     "data": {
      "text/plain": [
       "array([-42, -26,  -4])"
      ]
     },
     "execution_count": 89,
     "metadata": {},
     "output_type": "execute_result"
    }
   ],
   "source": [
    "result = np.dot(matrix1,X)   ##for finding dot product\n",
    "result"
   ]
  },
  {
   "cell_type": "code",
   "execution_count": 94,
   "id": "05f7e18f",
   "metadata": {},
   "outputs": [
    {
     "name": "stdout",
     "output_type": "stream",
     "text": [
      "-4\n"
     ]
    },
    {
     "data": {
      "text/plain": [
       "42"
      ]
     },
     "execution_count": 94,
     "metadata": {},
     "output_type": "execute_result"
    }
   ],
   "source": [
    "eigenvalue = max((result))\n",
    "print(eigenvalue)\n",
    "eigenvalue = max(abs(result))\n",
    "eigenvalue"
   ]
  },
  {
   "cell_type": "code",
   "execution_count": null,
   "id": "924a2e03",
   "metadata": {},
   "outputs": [],
   "source": [
    "##TASK 1\n",
    "\n",
    "##write a program to find out the eigen value using power of iteration (using for iterate max 5 times)\n",
    "## print thez output after diffrent diffrent itrations."
   ]
  },
  {
   "cell_type": "code",
   "execution_count": 100,
   "id": "62d01d2a",
   "metadata": {},
   "outputs": [
    {
     "name": "stdout",
     "output_type": "stream",
     "text": [
      "-15\n"
     ]
    }
   ],
   "source": [
    "newmat = [[3,4],[7,4]]\n",
    "print(int(np.linalg.det(newmat)))"
   ]
  },
  {
   "cell_type": "code",
   "execution_count": null,
   "id": "9607e438",
   "metadata": {},
   "outputs": [],
   "source": []
  }
 ],
 "metadata": {
  "kernelspec": {
   "display_name": "Python 3 (ipykernel)",
   "language": "python",
   "name": "python3"
  },
  "language_info": {
   "codemirror_mode": {
    "name": "ipython",
    "version": 3
   },
   "file_extension": ".py",
   "mimetype": "text/x-python",
   "name": "python",
   "nbconvert_exporter": "python",
   "pygments_lexer": "ipython3",
   "version": "3.10.5"
  }
 },
 "nbformat": 4,
 "nbformat_minor": 5
}
