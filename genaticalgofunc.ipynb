{
 "cells": [
  {
   "cell_type": "code",
   "execution_count": 1,
   "id": "db15f43e",
   "metadata": {},
   "outputs": [],
   "source": [
    "from random import randint\n",
    "import random as rn"
   ]
  },
  {
   "cell_type": "code",
   "execution_count": 4,
   "id": "2fc77150",
   "metadata": {},
   "outputs": [],
   "source": [
    "class Sample:\n",
    "    def __init__(self,s,score):\n",
    "        self.s = s\n",
    "        self.score = score\n",
    "class GeneticEvolution:\n",
    "    def  __init__(self,s):\n",
    "        self.s = s\n",
    "        self.population = []\n",
    "        self.mutaion_rate = 0.1\n",
    "        for i in range(100):\n",
    "                sample =  ''\n",
    "                for i in range(len(s)):\n",
    "                    sample+=chr(int(randint(97,122)))\n",
    "                    self.population.append(Sample(sample,self.fitness(sample)))\n",
    "    def fitness(self,sample):\n",
    "        score = 0\n",
    "        for i,j in zip(list(sample),list(self.s)):\n",
    "            if i == j:\n",
    "                score+=1\n",
    "        return score\n",
    "    def selection(self):\n",
    "        new_population = []\n",
    "        self.population.sort(key=lambda x: x.score,reverse = True)\n",
    "        new_population = self.population[:40]\n",
    "        r_sample = rn.sample(self.population[40:],10)\n",
    "        for i in r_sample:\n",
    "            new_population.append(i)\n",
    "        self.population = new_population\n",
    "    "
   ]
  }
 ],
 "metadata": {
  "kernelspec": {
   "display_name": "gpu2",
   "language": "python",
   "name": "gpu2"
  },
  "language_info": {
   "codemirror_mode": {
    "name": "ipython",
    "version": 3
   },
   "file_extension": ".py",
   "mimetype": "text/x-python",
   "name": "python",
   "nbconvert_exporter": "python",
   "pygments_lexer": "ipython3",
   "version": "3.9.12"
  }
 },
 "nbformat": 4,
 "nbformat_minor": 5
}
