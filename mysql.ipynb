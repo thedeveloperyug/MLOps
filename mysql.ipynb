{
 "cells": [
  {
   "cell_type": "code",
   "execution_count": 2,
   "metadata": {},
   "outputs": [
    {
     "name": "stdout",
     "output_type": "stream",
     "text": [
      "<mysql.connector.connection_cext.CMySQLConnection object at 0x000001A07DD84FC8>\n"
     ]
    }
   ],
   "source": [
    "import mysql.connector\n",
    "\n",
    "mydb = mysql.connector.connect(\n",
    "host=\"localhost\",\n",
    "user=\"root\",\n",
    "password=\"admin\"\n",
    ")\n",
    "\n",
    "print(mydb)"
   ]
  },
  {
   "cell_type": "code",
   "execution_count": 3,
   "metadata": {},
   "outputs": [
    {
     "name": "stdout",
     "output_type": "stream",
     "text": [
      "db created\n"
     ]
    }
   ],
   "source": [
    "import mysql.connector\n",
    "\n",
    "mydb = mysql.connector.connect(\n",
    "host=\"localhost\",\n",
    "user=\"root\",\n",
    "password=\"admin\"\n",
    ")\n",
    "\n",
    "mycursor = mydb.cursor()\n",
    "mycursor.execute(\"CREATE DATABASE demodb\")\n",
    "print(\"db created\")"
   ]
  },
  {
   "cell_type": "code",
   "execution_count": 4,
   "metadata": {},
   "outputs": [
    {
     "name": "stdout",
     "output_type": "stream",
     "text": [
      "('demodb',)\n",
      "('information_schema',)\n",
      "('mysql',)\n",
      "('performance_schema',)\n",
      "('sakila',)\n",
      "('sys',)\n",
      "('world',)\n"
     ]
    }
   ],
   "source": [
    "import mysql.connector\n",
    "\n",
    "mydb = mysql.connector.connect(\n",
    "host=\"localhost\",\n",
    "user=\"root\",\n",
    "password=\"admin\"\n",
    ")\n",
    "\n",
    "mycursor = mydb.cursor()\n",
    "mycursor.execute(\"show databases\")\n",
    "for x in mycursor:\n",
    "    print(x)"
   ]
  },
  {
   "cell_type": "code",
   "execution_count": 5,
   "metadata": {},
   "outputs": [
    {
     "name": "stdout",
     "output_type": "stream",
     "text": [
      "CMySQLCursor: (Nothing executed yet)\n"
     ]
    }
   ],
   "source": [
    "import mysql.connector\n",
    "\n",
    "mydb = mysql.connector.connect(\n",
    "host=\"localhost\",\n",
    "user=\"root\",\n",
    "password=\"admin\"\n",
    ")\n",
    "\n",
    "mycursor = mydb.cursor()\n",
    "print(mycursor)"
   ]
  },
  {
   "cell_type": "code",
   "execution_count": 9,
   "metadata": {},
   "outputs": [
    {
     "name": "stdout",
     "output_type": "stream",
     "text": [
      "Table has been successfully created\n"
     ]
    }
   ],
   "source": [
    "import mysql.connector\n",
    "\n",
    "mydb = mysql.connector.connect(\n",
    "host=\"localhost\",\n",
    "user=\"root\",\n",
    "password=\"admin\",\n",
    "database=\"demodb\"\n",
    ")\n",
    "\n",
    "mycur=mydb.cursor()\n",
    "mycur.execute(\"CREATE TABLE customers(name VARCHAR(255),address VARCHAR(255))\")\n",
    "\n",
    "print(\"Table has been successfully created\")"
   ]
  },
  {
   "cell_type": "code",
   "execution_count": 13,
   "metadata": {},
   "outputs": [
    {
     "name": "stdout",
     "output_type": "stream",
     "text": [
      "('customers',)\n"
     ]
    }
   ],
   "source": [
    "import mysql.connector\n",
    "\n",
    "mydb = mysql.connector.connect(\n",
    "host=\"localhost\",\n",
    "user=\"root\",\n",
    "password=\"admin\",\n",
    "database=\"demodb\"\n",
    ")\n",
    "\n",
    "mycur=mydb.cursor()\n",
    "mycur.execute(\"SHOW TABLES\")\n",
    "for x in mycur:\n",
    "    print(x)\n",
    "\n"
   ]
  },
  {
   "cell_type": "code",
   "execution_count": 14,
   "metadata": {},
   "outputs": [
    {
     "name": "stdout",
     "output_type": "stream",
     "text": [
      "Table has been successfully created\n"
     ]
    }
   ],
   "source": [
    "import mysql.connector\n",
    "\n",
    "mydb = mysql.connector.connect(\n",
    "host=\"localhost\",\n",
    "user=\"root\",\n",
    "password=\"admin\",\n",
    "database=\"demodb\"\n",
    ")\n",
    "\n",
    "mycur=mydb.cursor()\n",
    "mycur.execute(\"CREATE TABLE students (id int AUTO_INCREMENT PRIMARY KEY, name VARCHAR(255),address VARCHAR(255))\")\n",
    "\n",
    "print(\"Table has been successfully created\")"
   ]
  },
  {
   "cell_type": "code",
   "execution_count": 16,
   "metadata": {},
   "outputs": [
    {
     "name": "stdout",
     "output_type": "stream",
     "text": [
      "data inserted successfully\n"
     ]
    }
   ],
   "source": [
    "import mysql.connector\n",
    "\n",
    "mydb = mysql.connector.connect(\n",
    "host=\"localhost\",\n",
    "user=\"root\",\n",
    "password=\"admin\",\n",
    "database=\"demodb\"\n",
    ")\n",
    "\n",
    "mycur=mydb.cursor()\n",
    "\n",
    "sql = \"INSERT INTO customers(name,address) Values(%s,%s)\"\n",
    "value = (\"yogesh\",\"ballia\")\n",
    "\n",
    "mycur.execute(sql,value)\n",
    "mydb.commit()\n",
    "print(\"data inserted successfully\")"
   ]
  },
  {
   "cell_type": "code",
   "execution_count": 30,
   "metadata": {},
   "outputs": [
    {
     "name": "stdout",
     "output_type": "stream",
     "text": [
      "data inserted successfully\n"
     ]
    }
   ],
   "source": [
    "import mysql.connector\n",
    "\n",
    "mydb = mysql.connector.connect(\n",
    "host=\"localhost\",\n",
    "user=\"root\",\n",
    "password=\"admin\",\n",
    "database=\"demodb\"\n",
    ")\n",
    "\n",
    "mycur=mydb.cursor()\n",
    "\n",
    "sql = \"INSERT INTO customers(name, address) VALUES (%s, %s)\"\n",
    "val = [\n",
    "  ('yogesh','uttar pradesh'),\n",
    "  ('amit','mumbai'),\n",
    "  ('Hannah',\"jaipur\"),\n",
    "  ('Michael', \"delhi\"),\n",
    "  ('Sandy', 'karnatka')\n",
    "  \n",
    "]\n",
    "\n",
    "mycur.executemany(sql,val)\n",
    "mydb.commit()\n",
    "print(\"data inserted successfully\")"
   ]
  },
  {
   "cell_type": "code",
   "execution_count": 34,
   "metadata": {},
   "outputs": [
    {
     "name": "stdout",
     "output_type": "stream",
     "text": [
      "('yogesh', 'ballia')\n",
      "('yogesh', 'uttar pradesh')\n",
      "('amit', 'mumbai')\n",
      "('Hannah', 'jaipur')\n",
      "('Michael', 'delhi')\n",
      "('Sandy', 'karnatka')\n"
     ]
    }
   ],
   "source": [
    "import mysql.connector\n",
    "\n",
    "mydb = mysql.connector.connect(\n",
    "host=\"localhost\",\n",
    "user=\"root\",\n",
    "password=\"admin\",\n",
    "database=\"demodb\"\n",
    ")\n",
    "\n",
    "mycur=mydb.cursor()\n",
    "mycur.execute(\"SELECT * FROM customers\")\n",
    "myres= mycur.fetchall()\n",
    "for x in myres:\n",
    "    print(x)"
   ]
  },
  {
   "cell_type": "code",
   "execution_count": 35,
   "metadata": {},
   "outputs": [
    {
     "name": "stdout",
     "output_type": "stream",
     "text": [
      "('yogesh',)\n",
      "('yogesh',)\n",
      "('amit',)\n",
      "('Hannah',)\n",
      "('Michael',)\n",
      "('Sandy',)\n"
     ]
    }
   ],
   "source": [
    "import mysql.connector\n",
    "\n",
    "mydb = mysql.connector.connect(\n",
    "host=\"localhost\",\n",
    "user=\"root\",\n",
    "password=\"admin\",\n",
    "database=\"demodb\"\n",
    ")\n",
    "\n",
    "mycur=mydb.cursor()\n",
    "mycur.execute(\"SELECT name FROM customers\")\n",
    "myres= mycur.fetchall()\n",
    "for x in myres:\n",
    "    print(x)"
   ]
  },
  {
   "cell_type": "code",
   "execution_count": null,
   "metadata": {},
   "outputs": [],
   "source": []
  }
 ],
 "metadata": {
  "kernelspec": {
   "display_name": "Python 3",
   "language": "python",
   "name": "python3"
  },
  "language_info": {
   "codemirror_mode": {
    "name": "ipython",
    "version": 3
   },
   "file_extension": ".py",
   "mimetype": "text/x-python",
   "name": "python",
   "nbconvert_exporter": "python",
   "pygments_lexer": "ipython3",
   "version": "3.7.4"
  }
 },
 "nbformat": 4,
 "nbformat_minor": 2
}
