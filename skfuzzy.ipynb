{
 "cells": [
  {
   "cell_type": "code",
   "execution_count": 18,
   "id": "acf14d71",
   "metadata": {},
   "outputs": [],
   "source": [
    "import numpy as np\n",
    "# pip install scikit-fuzzy\n",
    "import skfuzzy as fuzzy\n",
    "from skfuzzy import control as ctrl "
   ]
  },
  {
   "cell_type": "code",
   "execution_count": 19,
   "id": "7d525ca9",
   "metadata": {},
   "outputs": [],
   "source": [
    "import matplotlib.pyplot as plt"
   ]
  },
  {
   "cell_type": "code",
   "execution_count": 24,
   "id": "8d67d96d",
   "metadata": {},
   "outputs": [],
   "source": [
    "# !pip install scikit-fuzzy"
   ]
  },
  {
   "cell_type": "code",
   "execution_count": 21,
   "id": "27a9dfb1",
   "metadata": {},
   "outputs": [
    {
     "data": {
      "text/plain": [
       "Antecedent: mte"
      ]
     },
     "execution_count": 21,
     "metadata": {},
     "output_type": "execute_result"
    }
   ],
   "source": [
    "mte = ctrl.Antecedent(np.arange(1,41,1),'mte')\n",
    "mte"
   ]
  },
  {
   "cell_type": "code",
   "execution_count": 22,
   "id": "0bcc0760",
   "metadata": {},
   "outputs": [],
   "source": [
    "mte['poor'] = fuzzy.trimf(mte.universe,[1,5,15])\n",
    "mte['average'] = fuzzy.trapmf(mte.universe,[13,20,25,30])\n",
    "mte['good'] = fuzzy.trimf(mte.universe,[20,25,40])"
   ]
  },
  {
   "cell_type": "code",
   "execution_count": 23,
   "id": "b3cca174",
   "metadata": {},
   "outputs": [],
   "source": [
    "ete = ctrl.Antecedent(np.arange(1,41,1),'ete')\n",
    "ete['poor'] = fuzzy.trimf(mte.universe,[1,5,15])\n",
    "ete['average'] = fuzzy.trapmf(mte.universe,[13,20,25,30])\n",
    "ete['good'] = fuzzy.trimf(mte.universe,[20,25,40])"
   ]
  },
  {
   "cell_type": "code",
   "execution_count": null,
   "id": "a96f7fcc",
   "metadata": {},
   "outputs": [],
   "source": []
  }
 ],
 "metadata": {
  "kernelspec": {
   "display_name": "Python 3 (ipykernel)",
   "language": "python",
   "name": "python3"
  },
  "language_info": {
   "codemirror_mode": {
    "name": "ipython",
    "version": 3
   },
   "file_extension": ".py",
   "mimetype": "text/x-python",
   "name": "python",
   "nbconvert_exporter": "python",
   "pygments_lexer": "ipython3",
   "version": "3.10.5"
  }
 },
 "nbformat": 4,
 "nbformat_minor": 5
}
