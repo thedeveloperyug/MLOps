{
 "cells": [
  {
   "cell_type": "code",
   "execution_count": 2,
   "id": "396d6cfe",
   "metadata": {},
   "outputs": [],
   "source": [
    "\n",
    "import random \n",
    "import numpy as np\n",
    "\n",
    "class BatAlgorithm():\n",
    "    def __init__(self, D, NP, N_Gen, A, r, Qmin, Qmax, Lower, Upper, function):\n",
    "        self.D = D  #dimension\n",
    "        self.NP = NP  #population size \n",
    "        self.N_Gen = N_Gen  #generations\n",
    "        self.A = A  #loudness\n",
    "        self.r = r  #pulse rate\n",
    "        self.Qmin = Qmin  #frequency min\n",
    "        self.Qmax = Qmax  #frequency max\n",
    "        self.Lower = Lower  #lower bound\n",
    "        self.Upper = Upper  #upper bound\n",
    "\n",
    "        self.f_min = 0.0  #minimum fitness\n",
    "        \n",
    "        self.Lb = [0] * self.D  #lower bound\n",
    "        self.Ub = [0] * self.D  #upper bound\n",
    "        self.Q = [0] * self.NP  #frequency\n",
    "\n",
    "        self.v = [[0 for i in range(self.D)] for j in range(self.NP)]  #velocity\n",
    "        self.Sol = [[0 for i in range(self.D)] for j in range(self.NP)]  #population of solutions\n",
    "        self.Fitness = [0] * self.NP  #fitness\n",
    "        self.best = [0] * self.D  #best solution\n",
    "        self.Fun = function\n",
    "\n",
    "\n",
    "    def best_bat(self):\n",
    "        i = 0\n",
    "        j = 0\n",
    "        for i in range(self.NP):\n",
    "            if self.Fitness[i] < self.Fitness[j]:\n",
    "                j = i\n",
    "        for i in range(self.D):\n",
    "            self.best[i] = self.Sol[j][i]\n",
    "        self.f_min = self.Fitness[j]\n",
    "\n",
    "    def init_bat(self):\n",
    "        for i in range(self.D):\n",
    "            self.Lb[i] = self.Lower\n",
    "            self.Ub[i] = self.Upper\n",
    "\n",
    "        for i in range(self.NP):\n",
    "            self.Q[i] = 0\n",
    "            for j in range(self.D):\n",
    "                rnd = np.random.uniform(0, 1)\n",
    "                self.v[i][j] = 0.0\n",
    "                self.Sol[i][j] = self.Lb[j] + (self.Ub[j] - self.Lb[j]) * rnd\n",
    "            self.Fitness[i] = self.Fun(self.D, self.Sol[i])\n",
    "        self.best_bat()\n",
    "\n",
    "    def simplebounds(self, val, lower, upper):\n",
    "        if val < lower:\n",
    "            val = lower\n",
    "        if val > upper:\n",
    "            val = upper\n",
    "        return val\n",
    "\n",
    "    def move_bat(self):\n",
    "        S = [[0.0 for i in range(self.D)] for j in range(self.NP)]\n",
    "\n",
    "        self.init_bat()\n",
    "\n",
    "        for t in range(self.N_Gen):\n",
    "            for i in range(self.NP):\n",
    "                rnd = np.random.uniform(0, 1)\n",
    "                self.Q[i] = self.Qmin + (self.Qmax - self.Qmin) * rnd\n",
    "                for j in range(self.D):\n",
    "                    self.v[i][j] = self.v[i][j] + (self.Sol[i][j] -\n",
    "                                                   self.best[j]) * self.Q[i]\n",
    "                    S[i][j] = self.Sol[i][j] + self.v[i][j]\n",
    "\n",
    "                    S[i][j] = self.simplebounds(S[i][j], self.Lb[j],\n",
    "                                                self.Ub[j])\n",
    "\n",
    "                rnd = np.random.random_sample()\n",
    "\n",
    "                if rnd > self.r:\n",
    "                    for j in range(self.D):\n",
    "                        S[i][j] = self.best[j] + 0.001 * random.gauss(0, 1)\n",
    "                        S[i][j] = self.simplebounds(S[i][j], self.Lb[j],\n",
    "                                                self.Ub[j])\n",
    "                        \n",
    "                Fnew = self.Fun(self.D, S[i])\n",
    "\n",
    "                rnd = np.random.random_sample()\n",
    "\n",
    "                if (Fnew <= self.Fitness[i]) and (rnd < self.A):\n",
    "                    for j in range(self.D):\n",
    "                        self.Sol[i][j] = S[i][j]\n",
    "                    self.Fitness[i] = Fnew\n",
    "\n",
    "                if Fnew <= self.f_min:\n",
    "                    for j in range(self.D):\n",
    "                        self.best[j] = S[i][j]\n",
    "                    self.f_min = Fnew\n",
    "\n",
    "        print(self.f_min)"
   ]
  },
  {
   "cell_type": "code",
   "execution_count": 4,
   "id": "42be8a45",
   "metadata": {},
   "outputs": [
    {
     "data": {
      "text/plain": [
       "<__main__.BatAlgorithm at 0x1ddb5a99d20>"
      ]
     },
     "execution_count": 4,
     "metadata": {},
     "output_type": "execute_result"
    }
   ],
   "source": [
    "BatAlgorithm(8,5,6,9,5,5,8,8,6,'')"
   ]
  },
  {
   "cell_type": "code",
   "execution_count": 6,
   "id": "a3d2ba5e",
   "metadata": {},
   "outputs": [
    {
     "ename": "TypeError",
     "evalue": "print() missing 2 required positional arguments: 'i' and 'j'",
     "output_type": "error",
     "traceback": [
      "\u001b[1;31m---------------------------------------------------------------------------\u001b[0m",
      "\u001b[1;31mTypeError\u001b[0m                                 Traceback (most recent call last)",
      "Input \u001b[1;32mIn [6]\u001b[0m, in \u001b[0;36m<cell line: 7>\u001b[1;34m()\u001b[0m\n\u001b[0;32m      5\u001b[0m         \u001b[38;5;28;01mif\u001b[39;00m i\u001b[38;5;241m<\u001b[39mj:\n\u001b[0;32m      6\u001b[0m             \u001b[38;5;28mprint\u001b[39m(i\u001b[38;5;241m=\u001b[39mj)\n\u001b[1;32m----> 7\u001b[0m \u001b[38;5;28;43mprint\u001b[39;49m\u001b[43m(\u001b[49m\u001b[43m)\u001b[49m\n",
      "\u001b[1;31mTypeError\u001b[0m: print() missing 2 required positional arguments: 'i' and 'j'"
     ]
    }
   ],
   "source": [
    "def print(i,j):\n",
    "    i = 0\n",
    "    j=0\n",
    "    for i in range(8):\n",
    "        if i<j:\n",
    "            print(i=j)\n",
    "print()\n",
    "        "
   ]
  },
  {
   "cell_type": "code",
   "execution_count": null,
   "id": "2fb8483c",
   "metadata": {},
   "outputs": [],
   "source": []
  }
 ],
 "metadata": {
  "kernelspec": {
   "display_name": "Python 3 (ipykernel)",
   "language": "python",
   "name": "python3"
  },
  "language_info": {
   "codemirror_mode": {
    "name": "ipython",
    "version": 3
   },
   "file_extension": ".py",
   "mimetype": "text/x-python",
   "name": "python",
   "nbconvert_exporter": "python",
   "pygments_lexer": "ipython3",
   "version": "3.10.5"
  }
 },
 "nbformat": 4,
 "nbformat_minor": 5
}
