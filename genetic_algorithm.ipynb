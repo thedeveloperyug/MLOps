{
 "cells": [
  {
   "cell_type": "code",
   "execution_count": null,
   "metadata": {
    "id": "NYa3YTE5F-o_"
   },
   "outputs": [],
   "source": [
    "import random \n",
    "from random import *"
   ]
  },
  {
   "cell_type": "code",
   "execution_count": null,
   "metadata": {
    "id": "nzB-Qb2eGQ3v"
   },
   "outputs": [],
   "source": [
    "import sqlite3"
   ]
  },
  {
   "cell_type": "code",
   "execution_count": null,
   "metadata": {
    "id": "PQ2kAnruGTSn"
   },
   "outputs": [],
   "source": [
    "from datetime import date"
   ]
  },
  {
   "cell_type": "code",
   "execution_count": 11,
   "metadata": {
    "colab": {
     "base_uri": "https://localhost:8080/"
    },
    "id": "0JyheKECGcaP",
    "outputId": "349f928a-4e9f-407f-9ac2-9f911e11c579"
   },
   "outputs": [
    {
     "name": "stdout",
     "output_type": "stream",
     "text": [
      "<class 'list'>\n",
      "[[0, 0, 0, 0, 1, 1], [1, 0, 0, 1, 1, 1], [1, 0, 0, 1, 1, 1], [0, 0, 1, 0, 1, 1]]\n"
     ]
    }
   ],
   "source": [
    "#initialize population\n",
    "import random\n",
    "best=-100000\n",
    "populations =([[random.randint(0,1) for x in range(6)] for i in range(4)])\n",
    "print(type(populations))\n",
    "parents=[]\n",
    "new_populations = []\n",
    "print(populations)"
   ]
  },
  {
   "cell_type": "code",
   "execution_count": 12,
   "metadata": {
    "colab": {
     "base_uri": "https://localhost:8080/"
    },
    "id": "YYC7kcjlJsDu",
    "outputId": "d0e46b9a-5e29-4271-97a7-4f2c64f6239b"
   },
   "outputs": [
    {
     "name": "stdout",
     "output_type": "stream",
     "text": [
      "3\n",
      "-7\n",
      "-7\n",
      "11\n",
      "[-4, -44, -44, -116]\n"
     ]
    }
   ],
   "source": [
    "#fitness score calculation ............\n",
    "def fitness_score() :\n",
    "    global populations,best\n",
    "    fit_value = []\n",
    "    fit_score=[]\n",
    "    for i in range(4) :\n",
    "        chromosome_value=0\n",
    "        \n",
    "        for j in range(5,0,-1) :\n",
    "            chromosome_value += populations[i][j]*(2**(5-j))\n",
    "        chromosome_value = -1*chromosome_value if populations[i][0]==1 else chromosome_value\n",
    "        print(chromosome_value)\n",
    "        fit_value.append(-(chromosome_value**2) + 5 )\n",
    "    print(fit_value)\n",
    "    fit_value, populations = zip(*sorted(zip(fit_value, populations) , reverse = True))\n",
    "    best= fit_value[0]\n",
    "    \n",
    "fitness_score()"
   ]
  },
  {
   "cell_type": "code",
   "execution_count": 13,
   "metadata": {
    "colab": {
     "base_uri": "https://localhost:8080/"
    },
    "id": "eDDj1WmALgpi",
    "outputId": "e0c8e578-a09c-43d1-9933-7a29df963a6a"
   },
   "outputs": [
    {
     "name": "stdout",
     "output_type": "stream",
     "text": [
      "<class 'tuple'>\n",
      "([0, 0, 0, 0, 1, 1], [1, 0, 0, 1, 1, 1])\n"
     ]
    }
   ],
   "source": [
    "def selectparent():\n",
    "    global parents\n",
    "    #global populations , parents\n",
    "    parents=populations[0:2]\n",
    "    print(type(parents))\n",
    "    print(parents)\n",
    "selectparent()"
   ]
  },
  {
   "cell_type": "code",
   "execution_count": 14,
   "metadata": {
    "id": "93UnArkzLnAt"
   },
   "outputs": [],
   "source": [
    "def crossover() :\n",
    "    global parents\n",
    "    \n",
    "    cross_point = random.randint(0,5)\n",
    "    parents=parents + tuple([(parents[0][0:cross_point +1] +parents[1][cross_point+1:6])])\n",
    "    parents =parents+ tuple([(parents[1][0:cross_point +1] +parents[0][cross_point+1:6])])\n",
    "    \n",
    "    print(parents)"
   ]
  },
  {
   "cell_type": "code",
   "execution_count": 15,
   "metadata": {
    "id": "H_7AtVOnLxzg"
   },
   "outputs": [],
   "source": [
    "def mutation() :\n",
    "    global populations, parents\n",
    "    mute = random.randint(0,49)\n",
    "    if mute == 20 :\n",
    "        x=random.randint(0,3)\n",
    "        y = random.randint(0,5)\n",
    "        parents[x][y] = 1-parents[x][y]\n",
    "    populations = parents\n",
    "    print(populations)"
   ]
  },
  {
   "cell_type": "code",
   "execution_count": 16,
   "metadata": {
    "colab": {
     "base_uri": "https://localhost:8080/"
    },
    "id": "nnrWs43OL2qp",
    "outputId": "01811893-7c6e-43db-a557-cd89defc65c3"
   },
   "outputs": [
    {
     "data": {
      "text/plain": [
       "<function __main__.mutation()>"
      ]
     },
     "execution_count": 16,
     "metadata": {},
     "output_type": "execute_result"
    }
   ],
   "source": [
    "mutation"
   ]
  },
  {
   "cell_type": "code",
   "execution_count": 17,
   "metadata": {
    "colab": {
     "base_uri": "https://localhost:8080/"
    },
    "id": "riRkEgigL4xa",
    "outputId": "eb88d269-f674-4911-f381-4d5e04eec99c"
   },
   "outputs": [
    {
     "name": "stdout",
     "output_type": "stream",
     "text": [
      "([0, 0, 0, 0, 1, 1], [1, 0, 0, 1, 1, 1])\n"
     ]
    }
   ],
   "source": [
    "mutation()"
   ]
  },
  {
   "cell_type": "code",
   "execution_count": 18,
   "metadata": {
    "id": "I06MIf_kL6Rd"
   },
   "outputs": [],
   "source": [
    "class Genetic:\n",
    "  def __init__(self,string):\n",
    "    self.population=[]\n",
    "    for i in range(100):\n",
    "      sample=''\n",
    "    for i in range(len(string)):\n",
    "      sample.append(chr(int(random(97,123))))\n",
    "      self.population.append(sample)\n",
    "      self.mutation_rate=0.1\n",
    "\n"
   ]
  },
  {
   "cell_type": "code",
   "execution_count": 19,
   "metadata": {
    "id": "ixwkdWjGSfPD"
   },
   "outputs": [],
   "source": [
    "def fitness(self,sample):\n",
    "  count=0\n",
    "  for i,j in zip(sample,self.string):\n",
    "    if i==j:\n",
    "      count+=1\n",
    "    return count"
   ]
  },
  {
   "cell_type": "code",
   "execution_count": 20,
   "metadata": {
    "id": "mOZxXYVrUnuW"
   },
   "outputs": [],
   "source": [
    "import random as rn "
   ]
  },
  {
   "cell_type": "code",
   "execution_count": 21,
   "metadata": {
    "id": "zMSWuwcMTmBh"
   },
   "outputs": [],
   "source": [
    "def selection(self):\n",
    "  self.population.sort(key=lambda x :self.fitness(x),reverse=True)\n",
    "  new_pop=self.population[:40]\n",
    "  samples=rn.sample(self.population[40:],10)\n",
    "  for i in samples:\n",
    "    new_population.append(i) \n",
    "  self.population= new_population "
   ]
  },
  {
   "cell_type": "code",
   "execution_count": 22,
   "metadata": {
    "id": "mm3p9Ms0UOi7"
   },
   "outputs": [],
   "source": [
    "def crossover(self):\n",
    "  for i in range(100-len(self.population)):\n",
    "    parent=rn.sample(self.population,2)\n",
    "    new_child=''\n",
    "    for i in range(len(self.string)):\n",
    "      if random (0,1)>0.5:\n",
    "             new_child+=parent[0][i]\n",
    "      else:\n",
    "              new_child+=parent[1][i]\n",
    "      self.population.append(new_child)\n",
    "\n",
    "  crossover()\n",
    "\n",
    "#in this child case it will get the benefits from the both parents \n"
   ]
  },
  {
   "cell_type": "code",
   "execution_count": 23,
   "metadata": {
    "id": "MWcxMer8WTFZ"
   },
   "outputs": [],
   "source": [
    "def mut(self):\n",
    "  new_population=[]\n",
    "  for sample in self.population:\n",
    "    mutated=''\n",
    "    for i in sample:\n",
    "      if random(0,1)<self.mutation_rate:\n",
    "        mutated+=chr(int(random(97,123)))\n",
    "      else:\n",
    "        mutated+=i\n",
    "    new_population.append(mutated)\n",
    "    self.population=new_population\n",
    "    generation=0\n",
    "    while True:\n",
    "      generation +=1\n",
    "      print(generation,self.fitness(self.population[0]))\n",
    "      if self.fitness(self.population[0]==len(self.string)):\n",
    "          print(self.population[0])\n",
    "    \n",
    "      elif generation>10000:\n",
    "            return 0"
   ]
  },
  {
   "cell_type": "code",
   "execution_count": 24,
   "metadata": {
    "colab": {
     "base_uri": "https://localhost:8080/",
     "height": 130
    },
    "id": "CokgESstWr6f",
    "outputId": "d6a7ab68-9463-4c82-e4b0-f96e7177f406"
   },
   "outputs": [
    {
     "ename": "NameError",
     "evalue": "name 'self' is not defined",
     "output_type": "error",
     "traceback": [
      "\u001b[1;31m---------------------------------------------------------------------------\u001b[0m",
      "\u001b[1;31mNameError\u001b[0m                                 Traceback (most recent call last)",
      "Input \u001b[1;32mIn [24]\u001b[0m, in \u001b[0;36m<cell line: 1>\u001b[1;34m()\u001b[0m\n\u001b[1;32m----> 1\u001b[0m \u001b[38;5;28;43mself\u001b[39;49m\u001b[38;5;241m.\u001b[39mselection()\n\u001b[0;32m      2\u001b[0m \u001b[38;5;28mself\u001b[39m\u001b[38;5;241m.\u001b[39mcrossover()\n\u001b[0;32m      3\u001b[0m \u001b[38;5;28mself\u001b[39m\u001b[38;5;241m.\u001b[39mmutation()\n",
      "\u001b[1;31mNameError\u001b[0m: name 'self' is not defined"
     ]
    }
   ],
   "source": [
    "\n",
    "self.selection()\n",
    "self.crossover()\n",
    "self.mutation()\n",
    "\n",
    "\n"
   ]
  },
  {
   "cell_type": "code",
   "execution_count": 3,
   "metadata": {
    "colab": {
     "base_uri": "https://localhost:8080/"
    },
    "id": "G_pAeXWPX6Oa",
    "outputId": "ecfd27cc-2327-4f67-9dd2-cd61b9407469"
   },
   "outputs": [
    {
     "name": "stdout",
     "output_type": "stream",
     "text": [
      "1\n",
      "2\n",
      "3\n",
      "4\n",
      "5\n",
      "6\n",
      "7\n",
      "8\n",
      "9\n",
      "10\n",
      "make 4\n"
     ]
    },
    {
     "data": {
      "text/plain": [
       "<__main__.Sample at 0x1f170d06080>"
      ]
     },
     "execution_count": 3,
     "metadata": {},
     "output_type": "execute_result"
    }
   ],
   "source": [
    "from random import randint\n",
    "import random as rn\n",
    "\n",
    "class Sample:\n",
    "    def __init__(self,s,score):\n",
    "        self.s = s\n",
    "        self.score = score\n",
    "\n",
    "class GeneticEvolution:\n",
    "    def __init__(self,s):\n",
    "        self.s = s\n",
    "        \n",
    "        self.population = []\n",
    "        self.mutation_rate = 0.1\n",
    "        for i in range(100):\n",
    "            sample = ''\n",
    "            for i in range(len(s)):\n",
    "                sample+= chr(int(randint(97,122)))\n",
    "            self.population.append(Sample(sample,self.fitness(sample)))\n",
    "    def fitness(self,sample):\n",
    "        score=0\n",
    "        for i,j in zip(list(sample),list(self.s)):\n",
    "            if i==j:\n",
    "                score+=1\n",
    "        return score\n",
    "    def selection(self):\n",
    "        new_population = []\n",
    "       \n",
    "        self.population.sort(key = lambda x: x.score,reverse=True)\n",
    "        new_population = self.population[:40]\n",
    "       \n",
    "        r_sample = rn.sample(self.population[40:],10)\n",
    "        for i in r_sample:\n",
    "            new_population.append(i)\n",
    "        self.population = new_population\n",
    "    def crossover(self):\n",
    "        for i in range(100-len(self.population)):\n",
    "            parents = rn.sample(self.population,2)\n",
    "            child = ''\n",
    "            for i,j in zip(list(parents[0].s),list(parents[1].s)):\n",
    "                if rn.random()<0.5:\n",
    "                    child+=i\n",
    "                else:\n",
    "                    child+=j\n",
    "            self.population.append(Sample(child,self.fitness(child)))\n",
    "           \n",
    "    def mutation(self):\n",
    "        new_population = []\n",
    "       \n",
    "        for sample in self.population:\n",
    "            mutated = ''\n",
    "            for i in sample.s:\n",
    "                if rn.random()<self.mutation_rate:\n",
    "                    mutated += chr(int(randint(97,122)))\n",
    "                else:\n",
    "                    mutated += i\n",
    "       \n",
    "            new_population.append(Sample(mutated,self.fitness(mutated)))\n",
    "        self.population = new_population\n",
    "   \n",
    "    def evolution(self):\n",
    "        generation = 0\n",
    "        while True:\n",
    "            generation+=1\n",
    "            print(generation)\n",
    "            self.selection()\n",
    "            #condition\n",
    "            if self.population[0].score==self.fitness(self.s):\n",
    "                print(self.population[0].s,self.population[0].score)\n",
    "                return self.population[0]\n",
    "            self.crossover()\n",
    "            self.mutation()\n",
    "            if generation>1000:\n",
    "                return None\n",
    "              \n",
    "   \n",
    "     \n",
    "     \n",
    "       \n",
    "g = GeneticEvolution('make')\n",
    "g.evolution()\n"
   ]
  },
  {
   "cell_type": "code",
   "execution_count": null,
   "metadata": {
    "id": "bLN_IjFZclJE"
   },
   "outputs": [],
   "source": []
  },
  {
   "cell_type": "code",
   "execution_count": null,
   "metadata": {},
   "outputs": [],
   "source": []
  },
  {
   "cell_type": "code",
   "execution_count": null,
   "metadata": {},
   "outputs": [],
   "source": []
  },
  {
   "cell_type": "code",
   "execution_count": null,
   "metadata": {},
   "outputs": [],
   "source": []
  },
  {
   "cell_type": "code",
   "execution_count": null,
   "metadata": {},
   "outputs": [],
   "source": []
  },
  {
   "cell_type": "code",
   "execution_count": null,
   "metadata": {},
   "outputs": [],
   "source": []
  },
  {
   "cell_type": "code",
   "execution_count": null,
   "metadata": {},
   "outputs": [],
   "source": []
  },
  {
   "cell_type": "code",
   "execution_count": null,
   "metadata": {},
   "outputs": [],
   "source": []
  },
  {
   "cell_type": "code",
   "execution_count": null,
   "metadata": {},
   "outputs": [],
   "source": []
  },
  {
   "cell_type": "code",
   "execution_count": null,
   "metadata": {},
   "outputs": [],
   "source": []
  },
  {
   "cell_type": "code",
   "execution_count": null,
   "metadata": {},
   "outputs": [],
   "source": []
  },
  {
   "cell_type": "code",
   "execution_count": null,
   "metadata": {},
   "outputs": [],
   "source": []
  },
  {
   "cell_type": "code",
   "execution_count": null,
   "metadata": {},
   "outputs": [],
   "source": []
  },
  {
   "cell_type": "code",
   "execution_count": null,
   "metadata": {},
   "outputs": [],
   "source": []
  },
  {
   "cell_type": "code",
   "execution_count": null,
   "metadata": {},
   "outputs": [],
   "source": []
  },
  {
   "cell_type": "code",
   "execution_count": null,
   "metadata": {},
   "outputs": [],
   "source": []
  },
  {
   "cell_type": "code",
   "execution_count": null,
   "metadata": {},
   "outputs": [],
   "source": []
  }
 ],
 "metadata": {
  "colab": {
   "provenance": []
  },
  "kernelspec": {
   "display_name": "Python 3 (ipykernel)",
   "language": "python",
   "name": "python3"
  },
  "language_info": {
   "codemirror_mode": {
    "name": "ipython",
    "version": 3
   },
   "file_extension": ".py",
   "mimetype": "text/x-python",
   "name": "python",
   "nbconvert_exporter": "python",
   "pygments_lexer": "ipython3",
   "version": "3.10.5"
  }
 },
 "nbformat": 4,
 "nbformat_minor": 1
}
