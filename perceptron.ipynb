{
 "cells": [
  {
   "cell_type": "code",
   "execution_count": 1,
   "id": "de781ba8",
   "metadata": {},
   "outputs": [],
   "source": [
    "import numpy as np\n"
   ]
  },
  {
   "cell_type": "code",
   "execution_count": 14,
   "id": "e58f9c34",
   "metadata": {},
   "outputs": [
    {
     "name": "stdout",
     "output_type": "stream",
     "text": [
      "enter the shape (round/eclipse)eclipse\n",
      "enter the texture (smooth/rash)smooth\n",
      "enter the weight in pound-1\n",
      "[-1  1 -1]\n",
      "1\n",
      "APPLE\n"
     ]
    }
   ],
   "source": [
    "x=input(\"enter the shape (round/eclipse)\")\n",
    "if x == 'round':\n",
    "    shape =1\n",
    "else:\n",
    "    shape = -1\n",
    "    \n",
    "    \n",
    "x=input(\"enter the texture (smooth/rash)\")\n",
    "if x == 'smooth':\n",
    "    texture=1\n",
    "else:\n",
    "    texture = -1\n",
    "\n",
    "    \n",
    "x=int(input(\"enter the weight in pound\"))\n",
    "if x >= 1:\n",
    "    wt = 1\n",
    "else:\n",
    "    wt= -1\n",
    "    \n",
    "in_vect = np.array([shape,texture,wt])\n",
    "print(in_vect.T)\n",
    "w = np.array([0,1,0])\n",
    "b=0\n",
    "\n",
    "y=(w*in_vect).sum()+b\n",
    "\n",
    "def perceptron(x):\n",
    "    if x>=0:\n",
    "        return 1\n",
    "    else:\n",
    "        return -1\n",
    "out = perceptron(y)\n",
    "print(out)\n",
    "if out == 1:\n",
    "    print('APPLE')\n",
    "else:\n",
    "    print('ORANGE')"
   ]
  },
  {
   "cell_type": "code",
   "execution_count": null,
   "id": "11ed07e8",
   "metadata": {},
   "outputs": [],
   "source": []
  },
  {
   "cell_type": "code",
   "execution_count": null,
   "id": "fcf402e1",
   "metadata": {},
   "outputs": [],
   "source": []
  }
 ],
 "metadata": {
  "kernelspec": {
   "display_name": "Python 3 (ipykernel)",
   "language": "python",
   "name": "python3"
  },
  "language_info": {
   "codemirror_mode": {
    "name": "ipython",
    "version": 3
   },
   "file_extension": ".py",
   "mimetype": "text/x-python",
   "name": "python",
   "nbconvert_exporter": "python",
   "pygments_lexer": "ipython3",
   "version": "3.10.5"
  }
 },
 "nbformat": 4,
 "nbformat_minor": 5
}
